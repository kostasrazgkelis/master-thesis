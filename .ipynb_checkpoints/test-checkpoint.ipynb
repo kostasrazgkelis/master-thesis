{
 "cells": [
  {
   "cell_type": "code",
   "execution_count": 1,
   "id": "54eabc84-d793-4183-920d-ac4f20ab2902",
   "metadata": {},
   "outputs": [
    {
     "name": "stdout",
     "output_type": "stream",
     "text": [
      "Requirement already satisfied: jellyfish in /opt/conda/lib/python3.11/site-packages (1.2.0)\n",
      "Requirement already satisfied: faker in /opt/conda/lib/python3.11/site-packages (37.1.0)\n",
      "Requirement already satisfied: tzdata in /opt/conda/lib/python3.11/site-packages (from faker) (2023.3)\n"
     ]
    }
   ],
   "source": [
    "!pip install jellyfish\n",
    "!pip install faker"
   ]
  },
  {
   "cell_type": "code",
   "execution_count": 1,
   "id": "c7fa1b45-7b04-4cc2-a017-5cfbf9ffec54",
   "metadata": {},
   "outputs": [],
   "source": [
    "import pyspark\n",
    "import jellyfish\n",
    "import pandas as pd\n",
    "import numpy as np\n",
    "from typing import List\n",
    "import os\n",
    "import math\n",
    "import time\n",
    "from collections import defaultdict\n",
    "from packages.generateDataSets import SyntheticMatcherDataset\n",
    "from packages.calculateStatistics import DatasetEvaluator\n",
    "from itertools import combinations"
   ]
  },
  {
   "cell_type": "code",
   "execution_count": 19,
   "id": "937c68bc-bef6-402f-8add-6fbeddfb9a87",
   "metadata": {
    "editable": true,
    "slideshow": {
     "slide_type": ""
    },
    "tags": []
   },
   "outputs": [
    {
     "name": "stdout",
     "output_type": "stream",
     "text": [
      "0      (ID00005, N039E298Q412V409R232)\n",
      "1      (ID00009, R822W179H017P323F298)\n",
      "2      (ID00007, R449X716M948G667S702)\n",
      "3      (ID00004, N002E396N843I458S719)\n",
      "4      (ID10004, N002E396N853I623S569)\n",
      "5     (NEW72378, J547B222G492R551S490)\n",
      "6      (ID00008, N322K685T442C825W967)\n",
      "7      (ID00000, W815L281R155F768B914)\n",
      "8      (ID00001, C172B326X400M508O776)\n",
      "9      (ID00002, V683C265J127D589F482)\n",
      "10     (ID00003, E851P721F745D863K229)\n",
      "11     (ID00016, T873D670U046Z181X621)\n",
      "12     (ID00017, F327G856E567O929Q721)\n",
      "13     (ID00010, O283T723Z034V319X338)\n",
      "dtype: object\n",
      "preproccess took 0.0277 seconds\n",
      "evaluate took 0.0139 seconds\n",
      "calculateStatistics took 0.0002 seconds\n",
      "Expected: {}\n",
      "Ground Truth Size: 5\n",
      "True Positives: 4\n",
      "False Positives: 2\n",
      "False Negatives: 1\n",
      "Precision: 0.6667\n",
      "Recall: 0.8000\n"
     ]
    }
   ],
   "source": [
    "\n",
    "# Data for df1\n",
    "data1 = [\n",
    "    ['ID00005', 'N039', 'E298', 'Q412', 'V409', 'R232'], #TP1\n",
    "    ['ID00009', 'R822', 'W179', 'H017', 'P323', 'F298'], #TP2\n",
    "    ['ID00007', 'R449', 'X716', 'M948', 'G667', 'S702'], #TP3\n",
    "    ['ID00004', 'N002', 'E396', 'N843', 'I458', 'S719'], #TP4\n",
    "    ['ID10004', 'N002', 'E396', 'N853', 'I623', 'S569'], #FN1\n",
    "    ['NEW72378', 'J547', 'B222', 'G492', 'R551', 'S490'], #FP1\n",
    "    ['ID00008', 'N322', 'K685', 'T442', 'C825', 'W967'], #FP2\n",
    "    ['ID00000', 'W815', 'L281', 'R155', 'F768', 'B914'],\n",
    "    ['ID00001', 'C172', 'B326', 'X400', 'M508', 'O776'],\n",
    "    ['ID00002', 'V683', 'C265', 'J127', 'D589', 'F482'],\n",
    "    ['ID00003', 'E851', 'P721', 'F745', 'D863', 'K229'],\n",
    "    ['ID00016', 'T873', 'D670', 'U046', 'Z181', 'X621'],\n",
    "    ['ID00017', 'F327', 'G856', 'E567', 'O929', 'Q721'],\n",
    "    ['ID00010', 'O283', 'T723', 'Z034', 'V319', 'X338'],\n",
    "]\n",
    "\n",
    "# Data for df2\n",
    "data2 = [\n",
    "    ['ID00005', 'R746', 'E298', 'Q412', 'L291', 'R232'], #TP1\n",
    "    ['ID00009', 'R822', 'W179', 'H017', 'P323', 'F298'], #TP2\n",
    "    ['ID00007', 'Z011', 'X716', 'M948', 'W967', 'S702'], #TP3\n",
    "    ['ID00004', 'N002', 'E396', 'N843', 'V935', 'S719'], #TP4\n",
    "    ['ID10004', 'N002', 'E396', 'N553', 'I453', 'S459'], #FN1\n",
    "    ['NEW80187', 'J547', 'B222', 'G492', 'W673', 'S490'], #FP1\n",
    "    ['NEW30110', 'N322', 'K685', 'T432', 'C225', 'W967'], #FP2\n",
    "    ['NEW72832', 'F875', 'Q768', 'H822', 'Z154', 'X678'], \n",
    "    ['NEW30110', 'R560', 'C434', 'M687', 'Q689', 'Q863'],\n",
    "    ['NEW81243', 'R762', 'N687', 'A109', 'K476', 'R637'],\n",
    "    ['NEW52689', 'A089', 'V733', 'W158', 'A640', 'H331'],\n",
    "    ['NEW67368', 'Z079', 'J617', 'G878', 'W111', 'Q500'],\n",
    "    ['NEW72348', 'J547', 'B222', 'G492', 'R551', 'S490'],\n",
    "    ['NEW34469', 'Y990', 'H898', 'W673', 'L967', 'M829'],\n",
    "]\n",
    "\n",
    "# Create DataFrames\n",
    "columns = [0, 1, 2, 3, 4, 5]\n",
    "df1 = pd.DataFrame(data1, columns=columns)\n",
    "df2 = pd.DataFrame(data2, columns=columns)\n",
    "expected = {'gt': 5, 'tp': 4, 'fp': 2, 'fn': 1}\n",
    "\n",
    "evaluator = DatasetEvaluator(df1, df2, expected=expected, trim=0, threshold=3)\n",
    "evaluator.preproccess()\n",
    "evaluator.evaluate()\n",
    "evaluator.calculateStatistics()\n",
    "evaluator.printResults()"
   ]
  },
  {
   "cell_type": "code",
   "execution_count": 20,
   "id": "69a9f576-1350-4b75-a8a7-d0090ece3056",
   "metadata": {},
   "outputs": [
    {
     "data": {
      "text/html": [
       "<div>\n",
       "<style scoped>\n",
       "    .dataframe tbody tr th:only-of-type {\n",
       "        vertical-align: middle;\n",
       "    }\n",
       "\n",
       "    .dataframe tbody tr th {\n",
       "        vertical-align: top;\n",
       "    }\n",
       "\n",
       "    .dataframe thead th {\n",
       "        text-align: right;\n",
       "    }\n",
       "</style>\n",
       "<table border=\"1\" class=\"dataframe\">\n",
       "  <thead>\n",
       "    <tr style=\"text-align: right;\">\n",
       "      <th></th>\n",
       "      <th>0</th>\n",
       "      <th>1</th>\n",
       "      <th>2</th>\n",
       "      <th>3</th>\n",
       "      <th>4</th>\n",
       "      <th>5</th>\n",
       "    </tr>\n",
       "  </thead>\n",
       "  <tbody>\n",
       "    <tr>\n",
       "      <th>0</th>\n",
       "      <td>ID00005</td>\n",
       "      <td>N039</td>\n",
       "      <td>E298</td>\n",
       "      <td>Q412</td>\n",
       "      <td>V409</td>\n",
       "      <td>R232</td>\n",
       "    </tr>\n",
       "    <tr>\n",
       "      <th>1</th>\n",
       "      <td>ID00009</td>\n",
       "      <td>R822</td>\n",
       "      <td>W179</td>\n",
       "      <td>H017</td>\n",
       "      <td>P323</td>\n",
       "      <td>F298</td>\n",
       "    </tr>\n",
       "    <tr>\n",
       "      <th>2</th>\n",
       "      <td>ID00007</td>\n",
       "      <td>R449</td>\n",
       "      <td>X716</td>\n",
       "      <td>M948</td>\n",
       "      <td>G667</td>\n",
       "      <td>S702</td>\n",
       "    </tr>\n",
       "    <tr>\n",
       "      <th>3</th>\n",
       "      <td>ID00004</td>\n",
       "      <td>N002</td>\n",
       "      <td>E396</td>\n",
       "      <td>N843</td>\n",
       "      <td>I458</td>\n",
       "      <td>S719</td>\n",
       "    </tr>\n",
       "    <tr>\n",
       "      <th>4</th>\n",
       "      <td>ID10004</td>\n",
       "      <td>N002</td>\n",
       "      <td>E396</td>\n",
       "      <td>N853</td>\n",
       "      <td>I623</td>\n",
       "      <td>S569</td>\n",
       "    </tr>\n",
       "    <tr>\n",
       "      <th>5</th>\n",
       "      <td>NEW72378</td>\n",
       "      <td>J547</td>\n",
       "      <td>B222</td>\n",
       "      <td>G492</td>\n",
       "      <td>R551</td>\n",
       "      <td>S490</td>\n",
       "    </tr>\n",
       "    <tr>\n",
       "      <th>6</th>\n",
       "      <td>ID00008</td>\n",
       "      <td>N322</td>\n",
       "      <td>K685</td>\n",
       "      <td>T442</td>\n",
       "      <td>C825</td>\n",
       "      <td>W967</td>\n",
       "    </tr>\n",
       "    <tr>\n",
       "      <th>7</th>\n",
       "      <td>ID00000</td>\n",
       "      <td>W815</td>\n",
       "      <td>L281</td>\n",
       "      <td>R155</td>\n",
       "      <td>F768</td>\n",
       "      <td>B914</td>\n",
       "    </tr>\n",
       "    <tr>\n",
       "      <th>8</th>\n",
       "      <td>ID00001</td>\n",
       "      <td>C172</td>\n",
       "      <td>B326</td>\n",
       "      <td>X400</td>\n",
       "      <td>M508</td>\n",
       "      <td>O776</td>\n",
       "    </tr>\n",
       "    <tr>\n",
       "      <th>9</th>\n",
       "      <td>ID00002</td>\n",
       "      <td>V683</td>\n",
       "      <td>C265</td>\n",
       "      <td>J127</td>\n",
       "      <td>D589</td>\n",
       "      <td>F482</td>\n",
       "    </tr>\n",
       "    <tr>\n",
       "      <th>10</th>\n",
       "      <td>ID00003</td>\n",
       "      <td>E851</td>\n",
       "      <td>P721</td>\n",
       "      <td>F745</td>\n",
       "      <td>D863</td>\n",
       "      <td>K229</td>\n",
       "    </tr>\n",
       "    <tr>\n",
       "      <th>11</th>\n",
       "      <td>ID00016</td>\n",
       "      <td>T873</td>\n",
       "      <td>D670</td>\n",
       "      <td>U046</td>\n",
       "      <td>Z181</td>\n",
       "      <td>X621</td>\n",
       "    </tr>\n",
       "    <tr>\n",
       "      <th>12</th>\n",
       "      <td>ID00017</td>\n",
       "      <td>F327</td>\n",
       "      <td>G856</td>\n",
       "      <td>E567</td>\n",
       "      <td>O929</td>\n",
       "      <td>Q721</td>\n",
       "    </tr>\n",
       "    <tr>\n",
       "      <th>13</th>\n",
       "      <td>ID00010</td>\n",
       "      <td>O283</td>\n",
       "      <td>T723</td>\n",
       "      <td>Z034</td>\n",
       "      <td>V319</td>\n",
       "      <td>X338</td>\n",
       "    </tr>\n",
       "  </tbody>\n",
       "</table>\n",
       "</div>"
      ],
      "text/plain": [
       "           0     1     2     3     4     5\n",
       "0    ID00005  N039  E298  Q412  V409  R232\n",
       "1    ID00009  R822  W179  H017  P323  F298\n",
       "2    ID00007  R449  X716  M948  G667  S702\n",
       "3    ID00004  N002  E396  N843  I458  S719\n",
       "4    ID10004  N002  E396  N853  I623  S569\n",
       "5   NEW72378  J547  B222  G492  R551  S490\n",
       "6    ID00008  N322  K685  T442  C825  W967\n",
       "7    ID00000  W815  L281  R155  F768  B914\n",
       "8    ID00001  C172  B326  X400  M508  O776\n",
       "9    ID00002  V683  C265  J127  D589  F482\n",
       "10   ID00003  E851  P721  F745  D863  K229\n",
       "11   ID00016  T873  D670  U046  Z181  X621\n",
       "12   ID00017  F327  G856  E567  O929  Q721\n",
       "13   ID00010  O283  T723  Z034  V319  X338"
      ]
     },
     "execution_count": 20,
     "metadata": {},
     "output_type": "execute_result"
    }
   ],
   "source": [
    "df1"
   ]
  },
  {
   "cell_type": "code",
   "execution_count": 11,
   "id": "16be8e8c-f259-4f3f-a3f3-a66b8be074af",
   "metadata": {},
   "outputs": [
    {
     "name": "stdout",
     "output_type": "stream",
     "text": [
      "Pipeline 1 avg time: 578.75 sec\n",
      "Pipeline 2 avg time: 114.03 sec\n",
      "-80.30% reduce time ---> improvement\n"
     ]
    }
   ],
   "source": [
    "time1 =  578.75\n",
    "time2 = 114.03\n",
    "\n",
    "print(f\"Pipeline 1 avg time: {time1} sec\")\n",
    "print(f\"Pipeline 2 avg time: { time2} sec\")\n",
    "\n",
    "if time1 < time2:\n",
    "    print(f\"{(1 - time1/time2)*100:.2f}% increase time ---> not improvement\")\n",
    "else:\n",
    "    print(f\"-{(1 - time2/time1)*100:.2f}% reduce time ---> improvement\")"
   ]
  },
  {
   "cell_type": "code",
   "execution_count": null,
   "id": "fe0d584d-8e52-4c56-ae07-eb0be03cd46b",
   "metadata": {
    "scrolled": true
   },
   "outputs": [],
   "source": [
    "1250 Elapsed Time: 1.72 seconds\n",
    "2500 Elapsed Time: 7.02 seconds \n",
    "5000 Elapsed Time: 28.09 seconds\n",
    "10000 Elapsed Time: 114.03 seconds\n",
    "\n",
    "\n",
    "1250 Elapsed Time: 6.29 seconds\n",
    "2500 Elapsed Time: 26 seconds \n",
    "5000 Elapsed Time: 108.56 seconds\n",
    "10000 Elapsed Time: 578.75 seconds"
   ]
  },
  {
   "cell_type": "code",
   "execution_count": 4,
   "id": "542d83a7-fcda-424e-92c1-f666c1be7136",
   "metadata": {
    "editable": true,
    "scrolled": true,
    "slideshow": {
     "slide_type": ""
    },
    "tags": []
   },
   "outputs": [
    {
     "name": "stdout",
     "output_type": "stream",
     "text": [
      "0      (ID00000, B597V225L231H754E513)\n",
      "1      (ID00001, C871Z546W791T190I770)\n",
      "2      (ID00002, Z637Q638J414E217T408)\n",
      "3      (ID00003, Y031V620T248C080K449)\n",
      "4      (ID00004, N121T833N382A539H975)\n",
      "                    ...               \n",
      "495    (ID00495, Q810F200L827Q184Y328)\n",
      "496    (ID00496, C190I373T295W996Z436)\n",
      "497    (ID00497, N562L885Y280P513I745)\n",
      "498    (ID00498, U047E647D390G974E613)\n",
      "499    (ID00499, U791N078R915L807L625)\n",
      "Length: 500, dtype: object\n",
      "preproccess took 0.1329 seconds\n",
      "evaluate took 0.7763 seconds\n",
      "calculateStatistics took 0.0003 seconds\n",
      "Expected: {'gt': 125, 'tp': 93, 'fp': 69, 'fn': 32}\n",
      "Ground Truth Size: 125\n",
      "True Positives: 93\n",
      "False Positives: 69\n",
      "False Negatives: 32\n",
      "Precision: 0.5741\n",
      "Recall: 0.7440\n"
     ]
    }
   ],
   "source": [
    "dataset = SyntheticMatcherDataset(size=500 ,  ground_truth_ratio=0.25, datasets_ratio = (1, 2), true_positive_ratio=0.75, threshold=3)\n",
    "df1, df2 = dataset.df1, dataset.df2\n",
    "expected = dataset.expected\n",
    "\n",
    "evaluator = DatasetEvaluator(df1, df2, expected, threshold=3, trim=0, match_column=\"id\")\n",
    "evaluator.preproccess()\n",
    "evaluator.evaluate()\n",
    "evaluator.calculateStatistics()\n",
    "evaluator.printResults()"
   ]
  },
  {
   "cell_type": "code",
   "execution_count": 8,
   "id": "b271f9d6-94e5-4dfc-bdf6-99d84f0203e7",
   "metadata": {
    "editable": true,
    "slideshow": {
     "slide_type": ""
    },
    "tags": []
   },
   "outputs": [
    {
     "data": {
      "text/plain": [
       "array([('ID00000', 'B64F59Y54L92M88'), ('ID00001', 'I75E05K09F19W43'),\n",
       "       ('ID00002', 'J53P88I69W30D36'), ('ID00003', 'M17O60A36Z27M78'),\n",
       "       ('ID00004', 'N05L69R60C91G06'), ('ID00005', 'E30P83K68R91Y73'),\n",
       "       ('ID00006', 'M24R62H91D49I50'), ('ID00007', 'G32R08U26S00Q82'),\n",
       "       ('ID00008', 'T01S41H76U98Z78'), ('ID00009', 'C04R70K11G34C18'),\n",
       "       ('ID00010', 'T19V02W43O66A09'), ('ID00011', 'Z19V60C63F96Y13'),\n",
       "       ('ID00012', 'P84K66U20H15T94'), ('ID00013', 'B39T74C94X37X47'),\n",
       "       ('ID00014', 'J78W64W36Y30A82'), ('ID00015', 'T18M16L23X43Z45'),\n",
       "       ('ID00016', 'Z23L88J61D10Z68'), ('ID00017', 'W85H14A15I45E91'),\n",
       "       ('ID00018', 'N79M92X00B03Y38'), ('ID00019', 'H57Z48P38M45T39'),\n",
       "       ('ID00020', 'W61M03A53J37X68'), ('ID00021', 'O90K11W74K29F65'),\n",
       "       ('ID00022', 'B97Y31J18Y59T79'), ('ID00023', 'Z59U40M95Z81Q90'),\n",
       "       ('ID00024', 'C44K22N37I30Z72'), ('ID00025', 'M49S09D24W88H37'),\n",
       "       ('ID00026', 'V12I52E78S98U40'), ('ID00027', 'A38N60S24P31P23'),\n",
       "       ('ID00028', 'I57B20D61V47K67'), ('ID00029', 'X67R13F81B70Z55'),\n",
       "       ('ID00030', 'L50M73P15E21Y47'), ('ID00031', 'N71P78H05F84P72'),\n",
       "       ('ID00032', 'D35G13P91S16I62'), ('ID00033', 'G54P64S63O06A94'),\n",
       "       ('ID00034', 'X45U00P83B24S86'), ('ID00035', 'A46Q43C99G75L52'),\n",
       "       ('ID00036', 'N25F99U73G50H10'), ('ID00037', 'U77Q85N00T90W74'),\n",
       "       ('ID00038', 'M91S93N52C87F67'), ('ID00039', 'U25Q03Y00T39D86'),\n",
       "       ('ID00040', 'J06L46Z64R42G69'), ('ID00041', 'U60Y83V85J60A88'),\n",
       "       ('ID00042', 'Q25X46Z99Y33A29'), ('ID00043', 'Y49T09N90V78W35'),\n",
       "       ('ID00044', 'Y55W75J21G07A89'), ('ID00045', 'T93H06O28R10K45'),\n",
       "       ('ID00046', 'L18E28E10M87W65'), ('ID00047', 'M81V66P22L19I58'),\n",
       "       ('ID00048', 'E27Y41B16W08U17'), ('ID00049', 'T27X51F94K22A07'),\n",
       "       ('ID00050', 'M76M44J77V07W86'), ('ID00051', 'X67L08W99Z85S00'),\n",
       "       ('ID00052', 'X59K49E12M96N62'), ('ID00053', 'C52K92Y11B37Q55'),\n",
       "       ('ID00054', 'T18B95F45V55G70'), ('ID00055', 'R80E79L29B11G03'),\n",
       "       ('ID00056', 'X42U15N43P29S06'), ('ID00057', 'Q56K93U23H25Y16'),\n",
       "       ('ID00058', 'Z54G87O62Q77C93'), ('ID00059', 'B84J73G58O27U41'),\n",
       "       ('ID00060', 'A38Q43K33L65Q28'), ('ID00061', 'F57I88S81K95F48'),\n",
       "       ('ID00062', 'B45K11Y46A06D34'), ('ID00063', 'J04F11L94C54W17'),\n",
       "       ('ID00064', 'Y35Q08B92E06E07'), ('ID00065', 'Z73V14L76S65K03'),\n",
       "       ('ID00066', 'J00C99E92I20S21'), ('ID00067', 'G51P50A54B35M08'),\n",
       "       ('ID00068', 'C44J74V05V67J30'), ('ID00069', 'Q98Y24A12H21T29'),\n",
       "       ('ID00070', 'K53G54R39Z98M52'), ('ID00071', 'S19A23M31C72Z28'),\n",
       "       ('ID00072', 'I12D60E55F42G93'), ('ID00073', 'S05D30Z92H65H98'),\n",
       "       ('ID00074', 'D41F26E59I12Y62'), ('ID00075', 'A90F08G44Z38N41'),\n",
       "       ('ID00076', 'N96P39Q22U92R27'), ('ID00077', 'D22I51G95V34A34'),\n",
       "       ('ID00078', 'U69Q88N50Y03L69'), ('ID00079', 'E43N25O00Q54M17'),\n",
       "       ('ID00080', 'K76V95N11P25N74'), ('ID00081', 'Z55F62L09T73I00'),\n",
       "       ('ID00082', 'L01A93H50B47E01'), ('ID00083', 'U12E28L92N10B94'),\n",
       "       ('ID00084', 'D67B77I21C38Z02'), ('ID00085', 'E14R49N64B87K40'),\n",
       "       ('ID00086', 'O83D01W45V39I61'), ('ID00087', 'K01A39X89W61F67'),\n",
       "       ('ID00088', 'G40O08R72R84T44'), ('ID00089', 'Y86K92W27J38R54'),\n",
       "       ('ID00090', 'Z63C80B10R75M42'), ('ID00091', 'N40U78J92J74R34'),\n",
       "       ('ID00092', 'X30A09X88K43Z35'), ('ID00093', 'K56J12V32B92S72'),\n",
       "       ('ID00094', 'R72R89N08Y39G31'), ('ID00095', 'I62N05Z06F51K84'),\n",
       "       ('ID00096', 'T42K87L27I90B16'), ('ID00097', 'X99S73J71H22J09'),\n",
       "       ('ID00098', 'B06Q36Z04M17A84'), ('ID00099', 'T93D11E26N25R32'),\n",
       "       ('ID00100', 'S77B92Z85G33C32'), ('ID00101', 'Y83F08Q02A07V39'),\n",
       "       ('ID00102', 'P23N25P06J81W52'), ('ID00103', 'J25V14I38K11E13'),\n",
       "       ('ID00104', 'V09Y54H62R34L89'), ('ID00105', 'Q69N73F73M86U84'),\n",
       "       ('ID00106', 'T22Y59L21X70B88'), ('ID00107', 'J22L34R06X78S30'),\n",
       "       ('ID00108', 'Z88M66Q62F56X81'), ('ID00109', 'Q79J48L05W57Z97'),\n",
       "       ('ID00110', 'O76P83J55C10H61'), ('ID00111', 'Z47Q04F84G59Y54'),\n",
       "       ('ID00112', 'F48S86G19L93A48'), ('ID00113', 'N53J62S12Z47J34'),\n",
       "       ('ID00114', 'U53U70J27K41R12'), ('ID00115', 'C54O01C55A02B75'),\n",
       "       ('ID00116', 'V98Z40F16B80F12'), ('ID00117', 'J60Z06H90Q42I54'),\n",
       "       ('ID00118', 'W52C20T50B16U63'), ('ID00119', 'F49S85Y73P24O76'),\n",
       "       ('ID00120', 'I33K82W51J95S91'), ('ID00121', 'R75S86W02J95D78'),\n",
       "       ('ID00122', 'X90X07E98H18S98'), ('ID00123', 'G27Z50N14R38H41'),\n",
       "       ('ID00124', 'K87T32B54V96V98'), ('ID00125', 'A40Q46Y38C27D30'),\n",
       "       ('ID00126', 'C61V81U82H78J43'), ('ID00127', 'Y05J39O21G89Y01'),\n",
       "       ('ID00128', 'Y22D88I80U72R81'), ('ID00129', 'M68B07J35U11G78'),\n",
       "       ('ID00130', 'W37D78N19W67F22'), ('ID00131', 'D27F13P51S07F38'),\n",
       "       ('ID00132', 'S36B99L81G42B13'), ('ID00133', 'H62C47G26L40C92'),\n",
       "       ('ID00134', 'K40J98G31D03O06'), ('ID00135', 'J25A29C78D65U36'),\n",
       "       ('ID00136', 'K38D66U65K01V37'), ('ID00137', 'U18F65T54I05Q02'),\n",
       "       ('ID00138', 'F63C67F10J35Z48'), ('ID00139', 'W44E66A43M03I28'),\n",
       "       ('ID00140', 'F03A52P35E09U85'), ('ID00141', 'K33D35H33W54X72'),\n",
       "       ('ID00142', 'Q81X71O28T19Z65'), ('ID00143', 'V22O85C81R73O23'),\n",
       "       ('ID00144', 'Q18U43N67K20L37'), ('ID00145', 'O66Q17Q13F10L32'),\n",
       "       ('ID00146', 'Z13T00A14Y65S54'), ('ID00147', 'G37S80L82N78L49'),\n",
       "       ('ID00148', 'K48N36L40T18W48'), ('ID00149', 'Q71M29F91D56J73'),\n",
       "       ('ID00150', 'S95K04I68Y86Q93'), ('ID00151', 'E37D29M91K82P73'),\n",
       "       ('ID00152', 'D98B43L78D47G99'), ('ID00153', 'N72D77M23L54K66'),\n",
       "       ('ID00154', 'P13G88C32A56W24'), ('ID00155', 'X46Y33J72T98L78'),\n",
       "       ('ID00156', 'K44R17B31P87X46'), ('ID00157', 'X30J08X68E06B28'),\n",
       "       ('ID00158', 'X84R91P79D65S45'), ('ID00159', 'U19F66A26P94R99'),\n",
       "       ('ID00160', 'K74G31V74R27K34'), ('ID00161', 'I01C46W55I50B58'),\n",
       "       ('ID00162', 'S67W94U00Z09K64'), ('ID00163', 'Y78H77Y52Z16E75'),\n",
       "       ('ID00164', 'X11B98X32D73R26'), ('ID00165', 'B09D61J86H14C58'),\n",
       "       ('ID00166', 'G08D72N47Y61U28'), ('ID00167', 'N61F94B16V94N29'),\n",
       "       ('ID00168', 'T54Q62D04L79F17'), ('ID00169', 'J16Q09R63F65X62'),\n",
       "       ('ID00170', 'B79W63D35M38Z23'), ('ID00171', 'W73B47U53R28J01'),\n",
       "       ('ID00172', 'R68H60Z15E34V40'), ('ID00173', 'A87T40L93K33G09'),\n",
       "       ('ID00174', 'I03C47Y20S93Y07'), ('ID00175', 'B27D56D85D62K23'),\n",
       "       ('ID00176', 'Y59P66C65T24V75'), ('ID00177', 'X50E69U68X23H12'),\n",
       "       ('ID00178', 'U68I79R26X73E34'), ('ID00179', 'P85R57I99T25E40'),\n",
       "       ('ID00180', 'G82Y22X54W37D88'), ('ID00181', 'R88D89Y47H57L85'),\n",
       "       ('ID00182', 'Q76U55W85L65Q27'), ('ID00183', 'X56T78O85F58P30'),\n",
       "       ('ID00184', 'H62V26N81X12V03'), ('ID00185', 'H28V38R40R16N46'),\n",
       "       ('ID00186', 'W59I39B09S79R58'), ('ID00187', 'Y58O38J17J41V88'),\n",
       "       ('ID00188', 'U03J63I16X97G03'), ('ID00189', 'D32V54R95T83T45'),\n",
       "       ('ID00190', 'H39O15C49J98D24'), ('ID00191', 'N51S14N28K18Y09'),\n",
       "       ('ID00192', 'I34M35J70V17F75'), ('ID00193', 'R12T59U72L04W99'),\n",
       "       ('ID00194', 'V88I72Q87H05W50'), ('ID00195', 'E32M08Y40C73W53'),\n",
       "       ('ID00196', 'X30M21M20E04B30'), ('ID00197', 'I23J35Z01M82T70'),\n",
       "       ('ID00198', 'F48V43H82M77C26'), ('ID00199', 'M23U16O30F01A90'),\n",
       "       ('ID00200', 'I30L31V15W88I51'), ('ID00201', 'M80R17N51Q67B86'),\n",
       "       ('ID00202', 'W51V91M01R18D39'), ('ID00203', 'X64G50I47J35B48'),\n",
       "       ('ID00204', 'C45W37L48H27Z36'), ('ID00205', 'A64F34K24K39L97'),\n",
       "       ('ID00206', 'Q30P86G56A11B80'), ('ID00207', 'E05M73N74C89H27'),\n",
       "       ('ID00208', 'I61B39U95I76Z35'), ('ID00209', 'A27D72P61I18N21'),\n",
       "       ('ID00210', 'D81O67W86T75I62'), ('ID00211', 'D50S24G95I19M47'),\n",
       "       ('ID00212', 'U42F57P43J23M12'), ('ID00213', 'Y02M77J84N44A53'),\n",
       "       ('ID00214', 'Y47C69A59J50N32'), ('ID00215', 'U27K56G23C87Y64'),\n",
       "       ('ID00216', 'O33O03T94V43U66'), ('ID00217', 'S74E02B20Q22Z31'),\n",
       "       ('ID00218', 'X88V34Z96V61A24'), ('ID00219', 'Q64L61I91X72R52'),\n",
       "       ('ID00220', 'R58F95I69S76H70'), ('ID00221', 'P51M43W49S09R63'),\n",
       "       ('ID00222', 'S66L72N51S52G48'), ('ID00223', 'J69S64J58M59M95'),\n",
       "       ('ID00224', 'U35A16A06S43D75'), ('ID00225', 'Z45L29I45K17G84'),\n",
       "       ('ID00226', 'D53U04T83J42K84'), ('ID00227', 'X01Q82R93Y89J02'),\n",
       "       ('ID00228', 'J63D62T82H54H55'), ('ID00229', 'A65N23D88J19R27'),\n",
       "       ('ID00230', 'A05Z10F04U24B56'), ('ID00231', 'K43L52G58U73H30'),\n",
       "       ('ID00232', 'E91F76G81H28S60'), ('ID00233', 'L64W46S04Q52K93'),\n",
       "       ('ID00234', 'C59C61W05A13B49'), ('ID00235', 'H25F75B56D29K99'),\n",
       "       ('ID00236', 'U25E36Z98B73R77'), ('ID00237', 'Q33B04B15M17Q90'),\n",
       "       ('ID00238', 'M54L84V27N29A35'), ('ID00239', 'Q66A60W20H55Q55'),\n",
       "       ('ID00240', 'P29A31S70Q88W42'), ('ID00241', 'R69Y15S16O99N44'),\n",
       "       ('ID00242', 'Q69Q51Z31N03M25'), ('ID00243', 'C70U17N00J58S16'),\n",
       "       ('ID00244', 'L36C24C65L61H40'), ('ID00245', 'H30M27X51J82W88'),\n",
       "       ('ID00246', 'Y93M26J09G80Y36'), ('ID00247', 'O03V38J01L78R37'),\n",
       "       ('ID00248', 'L35J52Y29T33U16'), ('ID00249', 'T60H97D01F86Z96'),\n",
       "       ('ID00250', 'O89N12N36Z02Z69'), ('ID00251', 'G74X65G55S01C67'),\n",
       "       ('ID00252', 'I02X83N13W45Y57'), ('ID00253', 'M70F42V46H75H71'),\n",
       "       ('ID00254', 'T34R99N87K83K26'), ('ID00255', 'O67N21U26C94I93'),\n",
       "       ('ID00256', 'O81V11I69Q40G63'), ('ID00257', 'D70Z48Z81V59O46'),\n",
       "       ('ID00258', 'X47G16F62O32S51'), ('ID00259', 'H73R13J29B68R65'),\n",
       "       ('ID00260', 'J07O31E27U70T93'), ('ID00261', 'O42U15E98Y21P68'),\n",
       "       ('ID00262', 'M90L56O71F02D73'), ('ID00263', 'E43H45F77X09B81'),\n",
       "       ('ID00264', 'E02V15Y10L65T72'), ('ID00265', 'I50X33L01X01A13'),\n",
       "       ('ID00266', 'I80X82M80Y50V00'), ('ID00267', 'N91M41R61I12N12'),\n",
       "       ('ID00268', 'F26W76L70Q24C40'), ('ID00269', 'N92S78W22P15L08'),\n",
       "       ('ID00270', 'B55W33M79Q46F95'), ('ID00271', 'N05M57F29O83B77'),\n",
       "       ('ID00272', 'V67C44S99Y84L16'), ('ID00273', 'A25O25Y54Z23M54'),\n",
       "       ('ID00274', 'T19I66O00Y54N62'), ('ID00275', 'S87C69D22E41H65'),\n",
       "       ('ID00276', 'T65O82E50D96V17'), ('ID00277', 'P61O63Y02Q63P99'),\n",
       "       ('ID00278', 'P29X61J14N68K82'), ('ID00279', 'P87Z45V17B80H58'),\n",
       "       ('ID00280', 'P80A85G69S76S98'), ('ID00281', 'K63I76E75B33O12'),\n",
       "       ('ID00282', 'Z61D90U76R68X11'), ('ID00283', 'H51A43D67M77F52'),\n",
       "       ('ID00284', 'O84X29O03Y71H74'), ('ID00285', 'A75B76Y77R70O52'),\n",
       "       ('ID00286', 'F98A82B39J99B15'), ('ID00287', 'D32K34C69A35A14'),\n",
       "       ('ID00288', 'O53F26C33G07S25'), ('ID00289', 'I95K56P17A26L53'),\n",
       "       ('ID00290', 'Z63H22K85W90E11'), ('ID00291', 'G82J90A09M22R74'),\n",
       "       ('ID00292', 'K16A91K03R71W28'), ('ID00293', 'A05T51N86M70J04'),\n",
       "       ('ID00294', 'P41H92E79K96C71'), ('ID00295', 'T63A99N64E72K52'),\n",
       "       ('ID00296', 'S40U29X51R64H11'), ('ID00297', 'K89G88O12J16V99'),\n",
       "       ('ID00298', 'J23M65P99Y83T46'), ('ID00299', 'L46D57W60C99W13'),\n",
       "       ('ID00300', 'I32A47E90I50A15'), ('ID00301', 'A63V21Z38A92I89'),\n",
       "       ('ID00302', 'J52T62K19R25M79'), ('ID00303', 'Q46U98Q68U67U67'),\n",
       "       ('ID00304', 'F99Q46Y32Y48O05'), ('ID00305', 'U77Z68X86T15M37'),\n",
       "       ('ID00306', 'V24I13T56B24X25'), ('ID00307', 'B46N83Y17V66Y24'),\n",
       "       ('ID00308', 'N04D40O44G31Z46'), ('ID00309', 'D64L83R93F11S78'),\n",
       "       ('ID00310', 'Y30N30R94T65Y09'), ('ID00311', 'X95B00V21N51K01'),\n",
       "       ('ID00312', 'H40N95A05P16J32'), ('ID00313', 'Y39F74D95A76M69'),\n",
       "       ('ID00314', 'G55A71H36Y53T05'), ('ID00315', 'W98Q72J38B55R96'),\n",
       "       ('ID00316', 'K93P26C14A20E88'), ('ID00317', 'Y44M41D86F69U29'),\n",
       "       ('ID00318', 'E87H85S65Q86V64'), ('ID00319', 'D16R98E71P00G92'),\n",
       "       ('ID00320', 'P04S73T10N26D53'), ('ID00321', 'R71Q29J21I52T94'),\n",
       "       ('ID00322', 'I22Z68T15G49K39'), ('ID00323', 'P85T90B42T14F78'),\n",
       "       ('ID00324', 'E68X23L51L20N19'), ('ID00325', 'N90P03U50Q70J31'),\n",
       "       ('ID00326', 'D57Q71Q47I60J03'), ('ID00327', 'P56B54T45V94W78'),\n",
       "       ('ID00328', 'S87X89Y14P98Z63'), ('ID00329', 'U36T57Y10Q73N53'),\n",
       "       ('ID00330', 'G93Y94K14H19J41'), ('ID00331', 'B70A09S07K67B62'),\n",
       "       ('ID00332', 'Y17H55D36Q52H72'), ('ID00333', 'B90O57I37A96Q80'),\n",
       "       ('ID00334', 'R93U08C59A61I30'), ('ID00335', 'A08F75G85V89M80'),\n",
       "       ('ID00336', 'H23Y07I95H19U67'), ('ID00337', 'J88C28S92X27I62'),\n",
       "       ('ID00338', 'Z86H84X16W87H12'), ('ID00339', 'J02T49S58K04Z40'),\n",
       "       ('ID00340', 'O10Y19W43V89E98'), ('ID00341', 'Z89P85E52M10R96'),\n",
       "       ('ID00342', 'X93I74M76N73Z57'), ('ID00343', 'J15D38F02E76B96'),\n",
       "       ('ID00344', 'V15Z66P92P54B17'), ('ID00345', 'O40U61U04T69Q87'),\n",
       "       ('ID00346', 'L10A47K25M62S22'), ('ID00347', 'A47P86F29C30T86'),\n",
       "       ('ID00348', 'F75R76F27K37T55'), ('ID00349', 'N49L73J73X96Q00'),\n",
       "       ('ID00350', 'I75H97O41V52G69'), ('ID00351', 'X90F20C96B01O85'),\n",
       "       ('ID00352', 'V24J26Q93Q48A28'), ('ID00353', 'N74F14D36X77Z09'),\n",
       "       ('ID00354', 'U05S07T65M28H83'), ('ID00355', 'D67Q66E18P95A14'),\n",
       "       ('ID00356', 'I10V54Z23D42W35'), ('ID00357', 'C13U04S65A40B24'),\n",
       "       ('ID00358', 'S18S80Q70D13Q05'), ('ID00359', 'U16X09X35X89N54'),\n",
       "       ('ID00360', 'J39D56M20I85G26'), ('ID00361', 'F38Q18Y27R25S26'),\n",
       "       ('ID00362', 'G53G54U16R23M03'), ('ID00363', 'P48K35W91E55B39'),\n",
       "       ('ID00364', 'U77K78G72M69I45'), ('ID00365', 'X91G96O15L58F60'),\n",
       "       ('ID00366', 'P57S92M74Y97E31'), ('ID00367', 'U83O27M28D67D40'),\n",
       "       ('ID00368', 'G93U51Q04X41L60'), ('ID00369', 'W25C71Y48W38L27'),\n",
       "       ('ID00370', 'E50E32Z09H93A76'), ('ID00371', 'Y58X76H38R61O59'),\n",
       "       ('ID00372', 'G06I69T08A20O89'), ('ID00373', 'V65H21Q57C63D01'),\n",
       "       ('ID00374', 'N32T87R81B51T93'), ('ID00375', 'Q96X16B63E77A71'),\n",
       "       ('ID00376', 'T88Y29Q24L19N74'), ('ID00377', 'D47P46F16F40X62'),\n",
       "       ('ID00378', 'V60G96Y27L21N43'), ('ID00379', 'P21B51Y00O62C51'),\n",
       "       ('ID00380', 'I72R06X19E11Z31'), ('ID00381', 'K90P16M10D96C75'),\n",
       "       ('ID00382', 'C80W14Y05S06W61'), ('ID00383', 'F10C39T76I51N46'),\n",
       "       ('ID00384', 'E72M46K75V49U03'), ('ID00385', 'Q25I46R04C30U77'),\n",
       "       ('ID00386', 'C58E91V88J49U91'), ('ID00387', 'Z84H22I60E16W35'),\n",
       "       ('ID00388', 'F26D44T50Y02P13'), ('ID00389', 'Q75X41N80A72O91'),\n",
       "       ('ID00390', 'G55C92N32R23I99'), ('ID00391', 'D75F44D45G03O37'),\n",
       "       ('ID00392', 'M35H17U89C54C24'), ('ID00393', 'Q36O29F22D15J89'),\n",
       "       ('ID00394', 'H65Z89I35I68J30'), ('ID00395', 'E81G98X14Q59F50'),\n",
       "       ('ID00396', 'S01J67U65C93H96'), ('ID00397', 'P34Z21N73S26W24'),\n",
       "       ('ID00398', 'R44A39D46L97F15'), ('ID00399', 'H94B95R78Y53R75'),\n",
       "       ('ID00400', 'H42N12O96H00Z92'), ('ID00401', 'R21X46X07Z90R31'),\n",
       "       ('ID00402', 'A78E06C58N76D47'), ('ID00403', 'E18R02J86A75I19'),\n",
       "       ('ID00404', 'F11E90W37G88P70'), ('ID00405', 'N82X27J82H09Z69'),\n",
       "       ('ID00406', 'R86Y67Y49Z47E52'), ('ID00407', 'L93I24B21Q03H51'),\n",
       "       ('ID00408', 'J44U99C42N04E41'), ('ID00409', 'N85K95D45B78L77'),\n",
       "       ('ID00410', 'X31Y10T93H81Y59'), ('ID00411', 'Y67M39D93H72D02'),\n",
       "       ('ID00412', 'U71T98J94N81K78'), ('ID00413', 'Z77N78M40O69W06'),\n",
       "       ('ID00414', 'Z81O12I38D59X99'), ('ID00415', 'B47T70R80T41B52'),\n",
       "       ('ID00416', 'Q12S64J45T45O65'), ('ID00417', 'A01A69G76M58I33'),\n",
       "       ('ID00418', 'X47U62A00Q99W77'), ('ID00419', 'A89W75V25F47E11'),\n",
       "       ('ID00420', 'X28A15I34K56M36'), ('ID00421', 'U36B03Q33Z84K24'),\n",
       "       ('ID00422', 'E83B03Y39M58I60'), ('ID00423', 'V83H90M48P64X01'),\n",
       "       ('ID00424', 'T58C28E52H59T16'), ('ID00425', 'L59J55R39K33N79'),\n",
       "       ('ID00426', 'O44Z72I81U99G23'), ('ID00427', 'S50D75W03K36D55'),\n",
       "       ('ID00428', 'H93U48U37C23C18'), ('ID00429', 'C00N93U65A36C72'),\n",
       "       ('ID00430', 'U09W79M86T86C88'), ('ID00431', 'S21H25F27D80T46'),\n",
       "       ('ID00432', 'A73K43Y75I87W88'), ('ID00433', 'E35O50J47N48D09'),\n",
       "       ('ID00434', 'C55P37O61E71M59'), ('ID00435', 'Y76T55E95V36K27'),\n",
       "       ('ID00436', 'C04L59K79P10X52'), ('ID00437', 'W80L05Q11M64R56'),\n",
       "       ('ID00438', 'R30T35B93H27Y43'), ('ID00439', 'H42M87T61P94L17'),\n",
       "       ('ID00440', 'P41H66D53H24U44'), ('ID00441', 'D19M13J90X95H09'),\n",
       "       ('ID00442', 'M72Z62W83V67H25'), ('ID00443', 'U75M25Q40J61Y39'),\n",
       "       ('ID00444', 'Z54L51V20J67Q16'), ('ID00445', 'W01C15Q16B56Q95'),\n",
       "       ('ID00446', 'C44S84I02L56X11'), ('ID00447', 'Z45U25J90T10X60'),\n",
       "       ('ID00448', 'X57H30Q88I23R30'), ('ID00449', 'U63V33U23R07X71'),\n",
       "       ('ID00450', 'A75I77V77L92B85'), ('ID00451', 'J49R15A01Q84N19'),\n",
       "       ('ID00452', 'Z14E63B00Y94H25'), ('ID00453', 'T73X01S85M82U04'),\n",
       "       ('ID00454', 'E68P51L09N88O39'), ('ID00455', 'P31O85R91O09M83'),\n",
       "       ('ID00456', 'D10T68X49M68D19'), ('ID00457', 'H47R05I21K35H62'),\n",
       "       ('ID00458', 'F98S44X61Q14V94'), ('ID00459', 'E72G82E34E65L92'),\n",
       "       ('ID00460', 'X26B52C25V77K63'), ('ID00461', 'X23Z09G25K42Z34'),\n",
       "       ('ID00462', 'O68D08K02C73O50'), ('ID00463', 'A88T25R09P91O06'),\n",
       "       ('ID00464', 'D01O54K12R21O81'), ('ID00465', 'J95L57Q56U70F28'),\n",
       "       ('ID00466', 'O99Q28F38D43A82'), ('ID00467', 'A78P75X72O58Q00'),\n",
       "       ('ID00468', 'A00Z09P59X94P25'), ('ID00469', 'Q93Y20C93Q24U16'),\n",
       "       ('ID00470', 'F04K53G77K76L76'), ('ID00471', 'Q46W12K87N63Z73'),\n",
       "       ('ID00472', 'E91W84R99I00Q56'), ('ID00473', 'O80N53V76Q48S26'),\n",
       "       ('ID00474', 'Q26Z63V90L35H38'), ('ID00475', 'H99H87J40Y70Q33'),\n",
       "       ('ID00476', 'O63D42K11L44Y68'), ('ID00477', 'U32S66Q13N41L70'),\n",
       "       ('ID00478', 'E05H17F53D00B89'), ('ID00479', 'Q71T78S31C99T06'),\n",
       "       ('ID00480', 'N00T34K02B62K45'), ('ID00481', 'U03X39V34O63O35'),\n",
       "       ('ID00482', 'L20T73M15N79I82'), ('ID00483', 'H35R52O90M56U59'),\n",
       "       ('ID00484', 'L46F23D20I15T94'), ('ID00485', 'V11L54B55V10D29'),\n",
       "       ('ID00486', 'E35S67J98E60F24'), ('ID00487', 'G01B84K09D18E84'),\n",
       "       ('ID00488', 'B57A20Q59I45W92'), ('ID00489', 'R50Q37Y37H25F64'),\n",
       "       ('ID00490', 'I69I01O12F26G92'), ('ID00491', 'Q53M63J64J51O42'),\n",
       "       ('ID00492', 'F43H63V98T55U95'), ('ID00493', 'C16X39J71K60Y44'),\n",
       "       ('ID00494', 'I48M81O65N84V26'), ('ID00495', 'J92O43V61U45P14'),\n",
       "       ('ID00496', 'O07K75M98S88K06'), ('ID00497', 'V01S75N46R08N56'),\n",
       "       ('ID00498', 'M36M20L21I93V22'), ('ID00499', 'U44Z92G14R30V96')],\n",
       "      dtype=object)"
      ]
     },
     "execution_count": 8,
     "metadata": {},
     "output_type": "execute_result"
    }
   ],
   "source": []
  },
  {
   "cell_type": "code",
   "execution_count": null,
   "id": "f00c4230-b69b-4978-8174-b3ce849b7c67",
   "metadata": {
    "editable": true,
    "slideshow": {
     "slide_type": ""
    },
    "tags": []
   },
   "outputs": [],
   "source": [
    "preproccess took 0.6206 seconds\n",
    "evaluate took 24.9171 seconds\n",
    "calculateStatistics took 1.9571 seconds\n",
    "Expected: {'gt': 625, 'tp': 468, 'fp': 351, 'fn': 157}\n",
    "Ground Truth Size: 625\n",
    "True Positives: 468\n",
    "False Positives: 351\n",
    "False Negatives: 157\n",
    "Precision: 0.5714\n",
    "Recall: 0.7488\n",
    "\n",
    "preproccess took 0.7642 seconds\n",
    "evaluate took 21.1607 seconds\n",
    "calculateStatistics took 2.9809 seconds\n",
    "Expected: {'gt': 625, 'tp': 468, 'fp': 351, 'fn': 157}\n",
    "Ground Truth Size: 625\n",
    "True Positives: 468\n",
    "False Positives: 351\n",
    "False Negatives: 157\n",
    "Precision: 0.5714\n",
    "Recall: 0.7488"
   ]
  },
  {
   "cell_type": "code",
   "execution_count": 121,
   "id": "eb71f50e-bcb0-4081-a5f2-f59d1be187bd",
   "metadata": {
    "scrolled": true
   },
   "outputs": [
    {
     "name": "stdout",
     "output_type": "stream",
     "text": [
      "0.0003428459167480469\n"
     ]
    },
    {
     "data": {
      "text/plain": [
       "(0, 125, 0, 0, 0.0)"
      ]
     },
     "execution_count": 121,
     "metadata": {},
     "output_type": "execute_result"
    }
   ],
   "source": [
    "def fast_chunk(s):\n",
    "    bs = s.encode('utf-8')\n",
    "    chunk_len = len(bs) // 4 * 4  # ensure multiple of 4\n",
    "    return np.frombuffer(bs[:chunk_len], dtype='S4')\n",
    "    \n",
    "# Step 1: Find best 3-column combination (least unique combinations)\n",
    "columns = ['col1', 'col2', 'col3', 'col4', 'col5']\n",
    "unique_counts = []\n",
    "\n",
    "for cols in combinations(columns, 3):\n",
    "    count = df2[list(cols)].astype(str).agg(''.join, axis=1).nunique()\n",
    "    unique_counts.append((cols, count))\n",
    "\n",
    "best_combination = min(unique_counts, key=lambda x: x[1])\n",
    "best_cols = list(best_combination[0])\n",
    "\n",
    "# Step 2: Build index based on best 3 columns\n",
    "df2['index_key'] = df2[best_cols].astype(str).agg(''.join, axis=1)\n",
    "df2_proc = df2.apply(lambda x: (x['id'], ''.join(map(str, x[1:6])), x['index_key']), axis=1).to_numpy()\n",
    "\n",
    "df1['index_key'] = df1[best_cols].astype(str).agg(''.join, axis=1)\n",
    "df1_proc = df1.apply(lambda x: (x['id'], ''.join(map(str, x[1:6])), x['index_key']), axis=1).to_numpy()\n",
    "\n",
    "\n",
    "# Step 3: Build hashed buckets from df2 (by index_key)\n",
    "hashed_bucket = defaultdict(lambda: defaultdict(list))\n",
    "\n",
    "for id_val, full_str, index_key in df2_proc:\n",
    "    hashed_bucket[index_key][full_str].append(id_val)\n",
    "\n",
    "# Precompute chunked df1 strings once\n",
    "chunked_df1 = [(hash, fast_chunk(combined), match_id) for match_id, combined, hash in df1_proc]\n",
    "\n",
    "start = time.time()\n",
    "\n",
    "for index_key, df1_chunks, match_id in chunked_df1:\n",
    "    \n",
    "    if index_key not in hashed_bucket:\n",
    "       continue\n",
    "        \n",
    "    for full_str in hashed_bucket[key]:\n",
    "        df2_chunks = fast_chunk(full_str)\n",
    "        if len(df1_chunks) != len(df2_chunks):\n",
    "            continue\n",
    "        match_count = np.count_nonzero(df1_chunks == df2_chunks)\n",
    "        if match_count >= 3:\n",
    "            hashed_bucket[key][full_str].append(match_id)\n",
    "            break\n",
    "\n",
    "print(time.time() - start)\n",
    "\n",
    "flat = []\n",
    "for subdict in hashed_bucket.values():\n",
    "    for ids in subdict.values():\n",
    "        flat.append(ids)\n",
    "\n",
    "fp, tp, fn = 0, 0, 0\n",
    "\n",
    "for bucket in flat:\n",
    "    if len(bucket) > 1:\n",
    "        ids_to_check = np.array(bucket[1:])\n",
    "        if (any(np.isin(ids_to_check, ground_truth_ids_np))):\n",
    "            tp += 1\n",
    "        else:\n",
    "            fp += 1\n",
    "\n",
    "fn = len(ground_truth_ids_np) - tp\n",
    "precision = tp / (tp + fp) if (tp + fp) > 0 else 0\n",
    "recall = tp / (tp + fn) if (tp + fn) > 0 else 0\n",
    "\n",
    "tp, fn, fp, precision, recall"
   ]
  },
  {
   "cell_type": "code",
   "execution_count": null,
   "id": "c745782f-41aa-43f5-a595-0092ababd45a",
   "metadata": {},
   "outputs": [],
   "source": [
    "hashed_bucket"
   ]
  },
  {
   "cell_type": "code",
   "execution_count": 102,
   "id": "a8311a37-eeb8-4b76-b25c-5cb013424683",
   "metadata": {},
   "outputs": [
    {
     "name": "stdout",
     "output_type": "stream",
     "text": [
      "0.9082980155944824\n"
     ]
    },
    {
     "data": {
      "text/plain": [
       "(2327, -2202, 69, 0.9712020033388982, 18.616)"
      ]
     },
     "execution_count": 102,
     "metadata": {},
     "output_type": "execute_result"
    }
   ],
   "source": [
    "from itertools import combinations\n",
    "from collections import defaultdict\n",
    "import numpy as np\n",
    "import time\n",
    "\n",
    "def fast_chunk(s):\n",
    "    bs = s.encode('utf-8')\n",
    "    chunk_len = len(bs) // 4 * 4  # ensure multiple of 4\n",
    "    return np.frombuffer(bs[:chunk_len], dtype='S4')\n",
    "\n",
    "ground_truth_ids_np = np.intersect1d(df1['id'], df2['id'])\n",
    "# Step 1: Find best 3-column combination (least unique combinations)\n",
    "columns = ['col1', 'col2', 'col3', 'col4', 'col5']\n",
    "unique_counts = []\n",
    "\n",
    "for cols in combinations(columns, 3):\n",
    "    count = df2[list(cols)].astype(str).agg(''.join, axis=1).nunique()\n",
    "    unique_counts.append((cols, count))\n",
    "\n",
    "best_combination = min(unique_counts, key=lambda x: x[1])\n",
    "best_cols = list(best_combination[0])\n",
    "\n",
    "# Step 2: Build index based on best 3 columns\n",
    "df2['index_key'] = df2[best_cols].astype(str).agg(''.join, axis=1)\n",
    "df2_proc = df2.apply(lambda x: (x['id'], ''.join(map(str, x[1:6])), x['index_key']), axis=1).to_numpy()\n",
    "\n",
    "df1['index_key'] = df1[best_cols].astype(str).agg(''.join, axis=1)\n",
    "df1_proc = df1.apply(lambda x: (x['id'], ''.join(map(str, x[1:6])), x['index_key']), axis=1).to_numpy()\n",
    "\n",
    "\n",
    "\n",
    "# Step 3: Build hashed buckets from df2 (by index_key)\n",
    "hashed_bucket = defaultdict(lambda: defaultdict(list))\n",
    "\n",
    "for id_val, full_str, index_key in df2_proc:\n",
    "    hashed_bucket[index_key][full_str].append(id_val)\n",
    "\n",
    "# Precompute chunked df1 strings once\n",
    "chunked_df1 = [(hash, fast_chunk(combined), match_id) for match_id, combined, hash in df1_proc]\n",
    "\n",
    "fp, fn, tp = 0, 0 , 0\n",
    "start = time.time()\n",
    "\n",
    "for index_key, df1_chunks, match_id in chunked_df1:\n",
    "    for key in list(hashed_bucket.keys()):\n",
    "        fast_key1 = fast_chunk(index_key)\n",
    "        if np.count_nonzero(fast_key1 == fast_chunk(key)) == 0:\n",
    "            continue\n",
    "\n",
    "        for full_str in hashed_bucket[key]:\n",
    "            df2_chunks = fast_chunk(full_str)\n",
    "            if len(df1_chunks) != len(df2_chunks):\n",
    "                continue\n",
    "\n",
    "            match_count = np.count_nonzero(df1_chunks == df2_chunks)\n",
    "            if match_count >= 3:\n",
    "                hashed_bucket[key][full_str].append(match_id)\n",
    "                break\n",
    "\n",
    "print(time.time() - start)\n",
    "\n",
    "flat = []\n",
    "for subdict in hashed_bucket.values():\n",
    "    for ids in subdict.values():\n",
    "        flat.append(ids)\n",
    "\n",
    "for bucket in flat:\n",
    "    if len(bucket) > 1:\n",
    "        ids_to_check = np.array(bucket[1:])\n",
    "        mask = np.isin(ids_to_check, ground_truth_ids_np)\n",
    "        matched |= set(ids_to_check[mask])\n",
    "        fp += mask.size - np.count_nonzero(mask)\n",
    "\n",
    "tp = len(matched)\n",
    "fn = len(ground_truth_ids_np) - tp\n",
    "precision = tp / (tp + fp) if (tp + fp) > 0 else 0\n",
    "recall = tp / (tp + fn) if (tp + fn) > 0 else 0\n",
    "\n",
    "tp, fn, fp, precision, recall"
   ]
  },
  {
   "cell_type": "code",
   "execution_count": 2,
   "id": "ce8f0b9a-2b77-4f2e-b1be-e85695360596",
   "metadata": {},
   "outputs": [
    {
     "name": "stdout",
     "output_type": "stream",
     "text": [
      "Pipeline 1 avg time: 6.8511 sec\n",
      "Pipeline 2 avg time: 5.4194 sec\n",
      "-0.21% reduce time ---> improvement\n"
     ]
    }
   ],
   "source": [
    "import timeit\n",
    "\n",
    "def pipeline1():\n",
    "    dataset = SyntheticMatcherDataset(size=1000 , true_positive_ratio=0.70, threshold=3)\n",
    "    df1, df2 = dataset.df1, dataset.df2\n",
    "    expected = dataset.expected\n",
    "    \n",
    "    unique_tokens = pd.unique(pd.concat([df1.iloc[:, 1:6], df2.iloc[:, 1:6]], axis=0).stack())\n",
    "    token_map = {token: idx for idx, token in enumerate(unique_tokens)}\n",
    "    \n",
    "    def map_row(row):\n",
    "        return [token_map[val] for val in row[1:6]]\n",
    "        \n",
    "    # Keep column 0 as-is\n",
    "    df1_ids = df1.iloc[:, [0]]\n",
    "    \n",
    "    # Apply mapping only on columns 1 to 5\n",
    "    df1_mapped = df1.iloc[:, 1:6].apply(map_row, axis=1, result_type='expand')\n",
    "    \n",
    "    # Concatenate back with column 0\n",
    "    df1_final = pd.concat([df1_ids, df1_mapped], axis=1)\n",
    "    \n",
    "    # Repeat for df2\n",
    "    df2_ids = df2.iloc[:, [0]]\n",
    "    df2_mapped = df2.iloc[:, 1:6].apply(map_row, axis=1, result_type='expand')\n",
    "    df2_final = pd.concat([df2_ids, df2_mapped], axis=1)\n",
    "        \n",
    "    evaluator = DatasetEvaluator(df1, df2, expected, threshold=3, match_column=\"id\")\n",
    "    evaluator.evaluate()\n",
    "    # evaluator.printResults()\n",
    "\n",
    "def pipeline2():\n",
    "    dataset = SyntheticMatcherDataset(size=1000 , true_positive_ratio=0.70, threshold=3)\n",
    "    df1, df2 = dataset.df1, dataset.df2\n",
    "    expected = dataset.expected\n",
    "    \n",
    "    evaluator = DatasetEvaluator(df1, df2, expected, threshold=3, match_column=\"id\")\n",
    "    evaluator.evaluate()\n",
    "    # evaluator.printResults()\n",
    "\n",
    "time1 = timeit.timeit(pipeline1, number=10)\n",
    "time2 = timeit.timeit(pipeline2, number=10)\n",
    "\n",
    "print(f\"Pipeline 1 avg time: {time1 / 10:.4f} sec\")\n",
    "print(f\"Pipeline 2 avg time: {time2 / 10:.4f} sec\")\n",
    "\n",
    "if time1 < time2:\n",
    "    print(f\"{1 - time1/time2:.2f}% increase time ---> not improvement\")\n",
    "else:\n",
    "    print(f\"-{1 - time2/time1:.2f}% reduce time ---> improvement\")\n",
    "    "
   ]
  },
  {
   "cell_type": "code",
   "execution_count": 7,
   "id": "d6f50b75-71d4-4d0b-ad56-936d7e1e988d",
   "metadata": {},
   "outputs": [
    {
     "data": {
      "text/plain": [
       "1746562494.410388"
      ]
     },
     "execution_count": 7,
     "metadata": {},
     "output_type": "execute_result"
    }
   ],
   "source": [
    "Pipeline 1 avg time: 6.2479 sec\n",
    "Pipeline 2 avg time: 6.0408 sec\n",
    "\n",
    "Expected: {'gt': 125, 'tp': 87, 'fp': 38, 'fn': 38}\n",
    "Ground Truth Size: 125\n",
    "True Positives: 87\n",
    "False Positives: 38\n",
    "False Negatives: 38\n",
    "Precision: 0.6960\n",
    "Recall: 0.6960\n",
    "Elapsed Time: 1.26 seconds"
   ]
  },
  {
   "cell_type": "code",
   "execution_count": 38,
   "id": "fe4ae274-62b8-463b-aea5-0fe0c0caaa06",
   "metadata": {},
   "outputs": [
    {
     "name": "stdout",
     "output_type": "stream",
     "text": [
      "-0.03% reduce time ---> improvement\n"
     ]
    }
   ],
   "source": [
    "if time1 < time2:\n",
    "    print(f\"{1 - time1/time2:.2f}% increase time ---> not improvement\")\n",
    "else:\n",
    "    print(f\"-{1 - time2/time1:.2f}% reduce time ---> improvement\")\n",
    "    "
   ]
  },
  {
   "cell_type": "code",
   "execution_count": 32,
   "id": "f6ae61f4-f66b-4a16-9bf5-5653b61a1894",
   "metadata": {},
   "outputs": [
    {
     "data": {
      "text/plain": [
       "0.9668528625618208"
      ]
     },
     "execution_count": 32,
     "metadata": {},
     "output_type": "execute_result"
    }
   ],
   "source": []
  },
  {
   "cell_type": "code",
   "execution_count": 3,
   "id": "47325ccd-a77c-4341-aba0-4e83c56cd822",
   "metadata": {
    "scrolled": true
   },
   "outputs": [
    {
     "data": {
      "text/plain": [
       "{'R746E298Q412L291R232': ['ID00005'],\n",
       " 'R822W179H017P323F298': ['ID00009'],\n",
       " 'Z011X716M948W967S702': ['ID00007'],\n",
       " 'N002E396N843V935S719': ['ID00004'],\n",
       " 'N002E396N553I453S459': ['ID10004']}"
      ]
     },
     "execution_count": 3,
     "metadata": {},
     "output_type": "execute_result"
    }
   ],
   "source": [
    "{'R746E298Q412L291R232': ['ID00005'], 'R822W179H017P323F298': ['ID00009'], 'Z011X716M948W967S702': ['ID00007'], 'N002E396N843V935S719': ['ID00004'], 'N002E396N553I453S459': ['ID10004']}"
   ]
  },
  {
   "cell_type": "code",
   "execution_count": 45,
   "id": "feeba8ad-8cee-4741-8298-705d4ca5a443",
   "metadata": {},
   "outputs": [
    {
     "name": "stdout",
     "output_type": "stream",
     "text": [
      "Best column triplet (least unique values): ('col1', 'col2', 'col3')\n",
      "Number of unique combinations: 10000\n"
     ]
    }
   ],
   "source": [
    "from itertools import combinations\n",
    "\n",
    "columns = ['col1', 'col2', 'col3', 'col4', 'col5']\n",
    "\n",
    "# Store result as (column_triplet, unique_count)\n",
    "unique_counts = []\n",
    "\n",
    "for cols in combinations(columns, 3):\n",
    "    count = df2[list(cols)].agg(''.join, axis=1).nunique()\n",
    "    unique_counts.append((cols, count))\n",
    "\n",
    "# Find the combination with the minimum unique count\n",
    "best_combination = min(unique_counts, key=lambda x: x[1])\n",
    "\n",
    "print(\"Best column triplet (least unique values):\", best_combination[0])\n",
    "print(\"Number of unique combinations:\", best_combination[1])"
   ]
  },
  {
   "cell_type": "code",
   "execution_count": 7,
   "id": "955f3877-0ca7-4987-a52d-2ce10c5c47b5",
   "metadata": {},
   "outputs": [],
   "source": [
    "df1_proc = df1.apply(lambda x: (x[0], ''.join(map(str, x[1:]))), axis=1).to_numpy()\n",
    "df2_proc = df2.apply(lambda x: (x[0], ''.join(map(str, x[1:]))), axis=1).to_numpy()"
   ]
  },
  {
   "cell_type": "code",
   "execution_count": 41,
   "id": "d26648ad-cf14-48a8-9bb0-be6fcabdfebc",
   "metadata": {},
   "outputs": [
    {
     "data": {
      "text/plain": [
       "(100, ['col1', 'col2', 'col3'])"
      ]
     },
     "execution_count": 41,
     "metadata": {},
     "output_type": "execute_result"
    }
   ],
   "source": [
    "asd1 = df2[['col1', 'col2', 'col3']].agg(''.join, axis=1).nunique(), ['col1', 'col2', 'col3']\n",
    "asd2 = df2[['col2', 'col3', 'col4']].agg(''.join, axis=1).nunique(), ['col2', 'col3', 'col4']\n",
    "asd3 = df2[['col3', 'col4', 'col5']].agg(''.join, axis=1).nunique(), ['col3', 'col4', 'col5']\n",
    "min([asd1,asd2,asd3])"
   ]
  },
  {
   "cell_type": "code",
   "execution_count": 3,
   "id": "713762a3-d40f-4cbc-b253-8d3134514f12",
   "metadata": {},
   "outputs": [],
   "source": [
    "def fast_chunk(s):\n",
    "    bs = s.encode('utf-8')\n",
    "    chunk_len = len(bs) // 4 * 4  # ensure multiple of 4\n",
    "    return np.frombuffer(bs[:chunk_len], dtype='S4')"
   ]
  },
  {
   "cell_type": "code",
   "execution_count": 4,
   "id": "ab94a920-46c4-46e9-9164-0cf8859722ad",
   "metadata": {},
   "outputs": [
    {
     "data": {
      "text/plain": [
       "array([b'F553', b'F553', b'F553', b'F553', b'F553'], dtype='|S4')"
      ]
     },
     "execution_count": 4,
     "metadata": {},
     "output_type": "execute_result"
    }
   ],
   "source": []
  },
  {
   "cell_type": "code",
   "execution_count": 46,
   "id": "1f74c437-e401-44af-b055-c4eb6c0f6943",
   "metadata": {},
   "outputs": [
    {
     "data": {
      "text/plain": [
       "[(('col1', 'col2', 'col3'), 10000),\n",
       " (('col1', 'col2', 'col4'), 10000),\n",
       " (('col1', 'col2', 'col5'), 10000),\n",
       " (('col1', 'col3', 'col4'), 10000),\n",
       " (('col1', 'col3', 'col5'), 10000),\n",
       " (('col1', 'col4', 'col5'), 10000),\n",
       " (('col2', 'col3', 'col4'), 10000),\n",
       " (('col2', 'col3', 'col5'), 10000),\n",
       " (('col2', 'col4', 'col5'), 10000),\n",
       " (('col3', 'col4', 'col5'), 10000)]"
      ]
     },
     "execution_count": 46,
     "metadata": {},
     "output_type": "execute_result"
    }
   ],
   "source": [
    "unique_counts"
   ]
  },
  {
   "cell_type": "code",
   "execution_count": null,
   "id": "219fbf04-6da4-4c30-a07f-ddbbfec93e20",
   "metadata": {},
   "outputs": [],
   "source": [
    "hashed_bucket"
   ]
  },
  {
   "cell_type": "code",
   "execution_count": 87,
   "id": "e3191a21-96d1-4a3d-aa9f-faa0c59e7d77",
   "metadata": {},
   "outputs": [
    {
     "data": {
      "text/plain": [
       "False"
      ]
     },
     "execution_count": 87,
     "metadata": {},
     "output_type": "execute_result"
    }
   ],
   "source": []
  },
  {
   "cell_type": "code",
   "execution_count": 82,
   "id": "140bc717-3140-492b-9472-6b67f3bc3098",
   "metadata": {},
   "outputs": [
    {
     "data": {
      "text/plain": [
       "(4, 2, 3, 0.5714285714285714, 0.6666666666666666)"
      ]
     },
     "execution_count": 82,
     "metadata": {},
     "output_type": "execute_result"
    }
   ],
   "source": []
  },
  {
   "cell_type": "code",
   "execution_count": 81,
   "id": "51a47082-13b9-456e-96fc-83b26884f86b",
   "metadata": {},
   "outputs": [
    {
     "data": {
      "text/plain": [
       "(0, 6, 0, 0, 0.0)"
      ]
     },
     "execution_count": 81,
     "metadata": {},
     "output_type": "execute_result"
    }
   ],
   "source": [
    "# Evaluate precision/recall\n",
    "matched = set()\n",
    "fp = 0\n",
    "ground_truth_ids_np = np.intersect1d(df1['id'], df2['id'])\n",
    "\n",
    "for bucket in hashed_bucket.values():\n",
    "    if len(bucket) > 1:\n",
    "        ids_to_check = np.array(bucket[1:])  # exclude the original\n",
    "        mask = np.isin(ids_to_check, ground_truth_ids_np)\n",
    "        matched |= set(ids_to_check[mask])\n",
    "        fp += mask.size - np.count_nonzero(mask)\n",
    "\n",
    "tp = len(matched)\n",
    "fn = len(ground_truth_ids_np) - tp\n",
    "precision = tp / (tp + fp) if (tp + fp) > 0 else 0\n",
    "recall = tp / (tp + fn) if (tp + fn) > 0 else 0\n",
    "\n",
    "tp, fn, fp, precision, recall"
   ]
  },
  {
   "cell_type": "code",
   "execution_count": 9,
   "id": "06064040-d6bd-4989-ad7e-dcea2fe08e67",
   "metadata": {},
   "outputs": [
    {
     "data": {
      "text/plain": [
       "array(['ID00002', 'ID00006', 'ID00010', 'ID00013', 'ID00017', 'ID00021',\n",
       "       'ID00022', 'ID00030', 'ID00034', 'ID00035', 'ID00040', 'ID00045',\n",
       "       'ID00049', 'ID00051', 'ID00059', 'ID00063', 'ID00071', 'ID00078',\n",
       "       'ID00080', 'ID00081', 'ID00086', 'ID00089', 'ID00091', 'ID00096',\n",
       "       'ID00099'], dtype='<U7')"
      ]
     },
     "execution_count": 9,
     "metadata": {},
     "output_type": "execute_result"
    }
   ],
   "source": [
    "np.array(list(np.intersect1d(df1['id'], df2['id'])))"
   ]
  },
  {
   "cell_type": "code",
   "execution_count": 10,
   "id": "6570ebe1-c1c4-41b6-bf0e-505580ed8bab",
   "metadata": {},
   "outputs": [
    {
     "data": {
      "text/plain": [
       "25"
      ]
     },
     "execution_count": 10,
     "metadata": {},
     "output_type": "execute_result"
    }
   ],
   "source": [
    "np.array(list(np.intersect1d(df1['id'], df2['id']))).size"
   ]
  },
  {
   "cell_type": "code",
   "execution_count": 73,
   "id": "46c7c310-7f5e-43d2-9edf-2a2f79a19e47",
   "metadata": {},
   "outputs": [
    {
     "data": {
      "text/plain": [
       "array(['ID00017'], dtype='<U7')"
      ]
     },
     "execution_count": 73,
     "metadata": {},
     "output_type": "execute_result"
    }
   ],
   "source": [
    "ids_to_check"
   ]
  },
  {
   "cell_type": "code",
   "execution_count": 56,
   "id": "d48b528c-a2aa-471d-a64c-ae75c2ef3b6b",
   "metadata": {},
   "outputs": [],
   "source": [
    "def fast_chunk(s: str):\n",
    "    step = len(s) // (5)\n",
    "    return np.array([s[i:i+step] for i in range(0, len(s), step)])\n",
    "\n",
    "def fast_chunk3(s: str, trim: int = 0):\n",
    "    chunks = [s[i:i+4] for i in range(0, len(s) - len(s) % 4, 4)]\n",
    "    if trim > 0:\n",
    "        chunks = [chunk[:-trim] if len(chunk) > trim else '' for chunk in chunks]\n",
    "    return np.array(chunks)\n",
    "    \n",
    "def combine_and_trim_chunks(row, trim: int = 0):\n",
    "    chunks = [str(x) for x in row[1:]]  # skip ID\n",
    "    trimmed_chunks = [c[:-trim] if trim > 0 else c for c in chunks]\n",
    "    combined = ''.join(trimmed_chunks)\n",
    "    return (row[0], combined)\n",
    "\n",
    "def fast_chunk2(s):\n",
    "    bs = s.encode('utf-8')\n",
    "    chunk_len = len(bs) // 4 * 4  # ensure multiple of 4\n",
    "    return np.frombuffer(bs[:chunk_len], dtype='S4')"
   ]
  },
  {
   "cell_type": "code",
   "execution_count": 33,
   "id": "98f892a5-f5f3-4ff6-9ea3-a39233edcf9e",
   "metadata": {},
   "outputs": [
    {
     "data": {
      "text/plain": [
       "array(['R74', 'E29', 'Q41', 'L29', 'R23'], dtype='<U3')"
      ]
     },
     "execution_count": 33,
     "metadata": {},
     "output_type": "execute_result"
    }
   ],
   "source": [
    "fast_chunk3(\"R746E298Q412L291R232\", trim=1)"
   ]
  },
  {
   "cell_type": "code",
   "execution_count": 55,
   "id": "a7cc2eab-08ea-489a-b637-a071e52fbffc",
   "metadata": {},
   "outputs": [
    {
     "name": "stdout",
     "output_type": "stream",
     "text": [
      "3\n"
     ]
    },
    {
     "data": {
      "text/plain": [
       "['R74', 'E29', 'Q41', 'L29', 'R23']"
      ]
     },
     "execution_count": 55,
     "metadata": {},
     "output_type": "execute_result"
    }
   ],
   "source": [
    "s = \"R746E298Q412L291R232\"\n",
    "s = \"R74E29Q41L29R23\"\n",
    "\n",
    "trim = 1\n",
    "step = len(s) // (5)\n",
    "print(step)\n",
    "[s[i:i+step] for i in range(0, len(s), step)]"
   ]
  },
  {
   "cell_type": "code",
   "execution_count": 58,
   "id": "61fa8152-514f-4c02-b80d-a64020ccaec9",
   "metadata": {},
   "outputs": [
    {
     "data": {
      "text/plain": [
       "[('ID00000', array(['G7', 'U3', 'H3', 'E0', 'W0'], dtype='<U2')),\n",
       " ('ID00001', array(['P0', 'R6', 'P4', 'R6', 'M8'], dtype='<U2')),\n",
       " ('ID00002', array(['T0', 'O7', 'X2', 'W8', 'A1'], dtype='<U2')),\n",
       " ('ID00003', array(['E4', 'K1', 'E9', 'F7', 'C5'], dtype='<U2')),\n",
       " ('ID00004', array(['P3', 'T8', 'U0', 'Z4', 'B7'], dtype='<U2')),\n",
       " ('ID00005', array(['B2', 'P6', 'Y7', 'D7', 'A7'], dtype='<U2')),\n",
       " ('ID00006', array(['I6', 'R3', 'J1', 'Z3', 'U4'], dtype='<U2')),\n",
       " ('ID00007', array(['N8', 'L6', 'F8', 'H4', 'S2'], dtype='<U2')),\n",
       " ('ID00008', array(['U1', 'I9', 'G6', 'Y6', 'T5'], dtype='<U2')),\n",
       " ('ID00009', array(['B5', 'W5', 'B3', 'R8', 'K6'], dtype='<U2')),\n",
       " ('ID00010', array(['F2', 'N8', 'R8', 'P4', 'I4'], dtype='<U2')),\n",
       " ('ID00011', array(['R3', 'I7', 'A5', 'A5', 'K6'], dtype='<U2')),\n",
       " ('ID00012', array(['T2', 'M1', 'G0', 'S7', 'U8'], dtype='<U2')),\n",
       " ('ID00013', array(['V7', 'V5', 'D9', 'I1', 'T9'], dtype='<U2')),\n",
       " ('ID00014', array(['D9', 'L7', 'F5', 'K0', 'N1'], dtype='<U2')),\n",
       " ('ID00015', array(['H8', 'S6', 'I1', 'C3', 'A7'], dtype='<U2')),\n",
       " ('ID00016', array(['A7', 'R6', 'P7', 'Q4', 'I5'], dtype='<U2')),\n",
       " ('ID00017', array(['Q5', 'U8', 'Y1', 'U7', 'H7'], dtype='<U2')),\n",
       " ('ID00018', array(['W6', 'F2', 'Y2', 'K3', 'S7'], dtype='<U2')),\n",
       " ('ID00019', array(['Z9', 'W0', 'U9', 'F4', 'J3'], dtype='<U2')),\n",
       " ('ID00020', array(['W0', 'R0', 'M3', 'I6', 'Q7'], dtype='<U2')),\n",
       " ('ID00021', array(['A2', 'Z3', 'C5', 'O7', 'Y2'], dtype='<U2')),\n",
       " ('ID00022', array(['F9', 'W1', 'T7', 'D5', 'S7'], dtype='<U2')),\n",
       " ('ID00023', array(['Y0', 'P2', 'W5', 'C7', 'G1'], dtype='<U2')),\n",
       " ('ID00024', array(['T8', 'V1', 'J1', 'A2', 'Q5'], dtype='<U2')),\n",
       " ('ID00025', array(['L2', 'D2', 'P1', 'K3', 'B8'], dtype='<U2')),\n",
       " ('ID00026', array(['U7', 'H0', 'L1', 'K6', 'D3'], dtype='<U2')),\n",
       " ('ID00027', array(['E3', 'A0', 'L8', 'N9', 'G1'], dtype='<U2')),\n",
       " ('ID00028', array(['Q2', 'C7', 'A8', 'V4', 'O2'], dtype='<U2')),\n",
       " ('ID00029', array(['M4', 'M2', 'G0', 'Y5', 'O3'], dtype='<U2')),\n",
       " ('ID00030', array(['K3', 'Q0', 'A6', 'Y9', 'X7'], dtype='<U2')),\n",
       " ('ID00031', array(['T6', 'R6', 'V1', 'H0', 'N5'], dtype='<U2')),\n",
       " ('ID00032', array(['H4', 'J2', 'T4', 'N0', 'W5'], dtype='<U2')),\n",
       " ('ID00033', array(['C7', 'U5', 'W3', 'R1', 'Y9'], dtype='<U2')),\n",
       " ('ID00034', array(['H4', 'F6', 'R4', 'A0', 'L1'], dtype='<U2')),\n",
       " ('ID00035', array(['J2', 'Z5', 'I1', 'R8', 'N6'], dtype='<U2')),\n",
       " ('ID00036', array(['J5', 'C3', 'Q9', 'D9', 'B2'], dtype='<U2')),\n",
       " ('ID00037', array(['A0', 'M7', 'L0', 'E1', 'K5'], dtype='<U2')),\n",
       " ('ID00038', array(['J2', 'K4', 'Z6', 'F2', 'R5'], dtype='<U2')),\n",
       " ('ID00039', array(['T0', 'T8', 'O5', 'V0', 'X6'], dtype='<U2')),\n",
       " ('ID00040', array(['A1', 'C1', 'M6', 'Y6', 'G8'], dtype='<U2')),\n",
       " ('ID00041', array(['V2', 'Y0', 'W0', 'U0', 'P8'], dtype='<U2')),\n",
       " ('ID00042', array(['J7', 'S4', 'T1', 'W2', 'H3'], dtype='<U2')),\n",
       " ('ID00043', array(['Z4', 'C5', 'I6', 'Q9', 'U3'], dtype='<U2')),\n",
       " ('ID00044', array(['M8', 'L4', 'V3', 'Y0', 'L4'], dtype='<U2')),\n",
       " ('ID00045', array(['T2', 'Y5', 'E5', 'Y6', 'Q7'], dtype='<U2')),\n",
       " ('ID00046', array(['S9', 'H4', 'L1', 'T0', 'O9'], dtype='<U2')),\n",
       " ('ID00047', array(['J3', 'M2', 'Z4', 'H7', 'J7'], dtype='<U2')),\n",
       " ('ID00048', array(['S8', 'H2', 'O1', 'N6', 'Q5'], dtype='<U2')),\n",
       " ('ID00049', array(['W3', 'Q4', 'I0', 'K7', 'R9'], dtype='<U2')),\n",
       " ('ID00050', array(['V2', 'J5', 'R5', 'B9', 'E8'], dtype='<U2')),\n",
       " ('ID00051', array(['T4', 'J2', 'X0', 'H5', 'I1'], dtype='<U2')),\n",
       " ('ID00052', array(['T5', 'Z4', 'T7', 'X0', 'Z8'], dtype='<U2')),\n",
       " ('ID00053', array(['J6', 'Z5', 'Z4', 'X8', 'M6'], dtype='<U2')),\n",
       " ('ID00054', array(['G9', 'B3', 'J7', 'J9', 'Z0'], dtype='<U2')),\n",
       " ('ID00055', array(['G6', 'T2', 'I9', 'Z6', 'K3'], dtype='<U2')),\n",
       " ('ID00056', array(['N4', 'D6', 'D2', 'P1', 'T4'], dtype='<U2')),\n",
       " ('ID00057', array(['S3', 'W2', 'L8', 'J5', 'Q3'], dtype='<U2')),\n",
       " ('ID00058', array(['K7', 'G1', 'Q4', 'M2', 'B2'], dtype='<U2')),\n",
       " ('ID00059', array(['B3', 'P4', 'Y1', 'H4', 'C3'], dtype='<U2')),\n",
       " ('ID00060', array(['Q6', 'G3', 'Z6', 'C8', 'B6'], dtype='<U2')),\n",
       " ('ID00061', array(['F3', 'D7', 'E1', 'A4', 'Q7'], dtype='<U2')),\n",
       " ('ID00062', array(['H1', 'L0', 'O0', 'K5', 'V3'], dtype='<U2')),\n",
       " ('ID00063', array(['R8', 'B1', 'F8', 'L8', 'Z5'], dtype='<U2')),\n",
       " ('ID00064', array(['P5', 'P5', 'O3', 'B9', 'Y4'], dtype='<U2')),\n",
       " ('ID00065', array(['H7', 'B2', 'F7', 'Y1', 'L0'], dtype='<U2')),\n",
       " ('ID00066', array(['T1', 'S3', 'D4', 'L6', 'G2'], dtype='<U2')),\n",
       " ('ID00067', array(['T7', 'T1', 'Z0', 'G9', 'L8'], dtype='<U2')),\n",
       " ('ID00068', array(['G8', 'F4', 'Z4', 'T7', 'H2'], dtype='<U2')),\n",
       " ('ID00069', array(['M9', 'M2', 'N6', 'U1', 'Z6'], dtype='<U2')),\n",
       " ('ID00070', array(['K4', 'N4', 'W9', 'M4', 'O5'], dtype='<U2')),\n",
       " ('ID00071', array(['Y7', 'D8', 'D8', 'T3', 'K3'], dtype='<U2')),\n",
       " ('ID00072', array(['Y3', 'G4', 'J1', 'I9', 'S2'], dtype='<U2')),\n",
       " ('ID00073', array(['U0', 'A8', 'E3', 'D6', 'T3'], dtype='<U2')),\n",
       " ('ID00074', array(['B2', 'J6', 'C9', 'O5', 'W7'], dtype='<U2')),\n",
       " ('ID00075', array(['Z4', 'G6', 'Z2', 'Q8', 'Y6'], dtype='<U2')),\n",
       " ('ID00076', array(['B0', 'Y8', 'C4', 'K3', 'A7'], dtype='<U2')),\n",
       " ('ID00077', array(['M9', 'I1', 'M6', 'J0', 'F8'], dtype='<U2')),\n",
       " ('ID00078', array(['V1', 'D2', 'X6', 'C7', 'G7'], dtype='<U2')),\n",
       " ('ID00079', array(['E6', 'R9', 'E1', 'O1', 'Z5'], dtype='<U2')),\n",
       " ('ID00080', array(['J6', 'M1', 'X9', 'C6', 'W0'], dtype='<U2')),\n",
       " ('ID00081', array(['Q2', 'F5', 'S4', 'J6', 'I7'], dtype='<U2')),\n",
       " ('ID00082', array(['K9', 'C0', 'S9', 'C1', 'K2'], dtype='<U2')),\n",
       " ('ID00083', array(['Z0', 'E0', 'S0', 'F7', 'Q2'], dtype='<U2')),\n",
       " ('ID00084', array(['D2', 'M1', 'F6', 'I2', 'Q3'], dtype='<U2')),\n",
       " ('ID00085', array(['N1', 'P6', 'F6', 'B8', 'G9'], dtype='<U2')),\n",
       " ('ID00086', array(['O1', 'U9', 'Z1', 'X7', 'T5'], dtype='<U2')),\n",
       " ('ID00087', array(['Z0', 'Q9', 'F5', 'J1', 'W6'], dtype='<U2')),\n",
       " ('ID00088', array(['N5', 'Y4', 'F2', 'D2', 'O3'], dtype='<U2')),\n",
       " ('ID00089', array(['O3', 'H5', 'I4', 'N4', 'F3'], dtype='<U2')),\n",
       " ('ID00090', array(['P8', 'L1', 'F5', 'I6', 'Z9'], dtype='<U2')),\n",
       " ('ID00091', array(['Q2', 'G5', 'L8', 'D7', 'Q5'], dtype='<U2')),\n",
       " ('ID00092', array(['L8', 'K3', 'K9', 'B6', 'X1'], dtype='<U2')),\n",
       " ('ID00093', array(['C0', 'A3', 'P9', 'J3', 'R1'], dtype='<U2')),\n",
       " ('ID00094', array(['Q7', 'F6', 'Z6', 'K4', 'K4'], dtype='<U2')),\n",
       " ('ID00095', array(['Q2', 'S6', 'S5', 'V5', 'V1'], dtype='<U2')),\n",
       " ('ID00096', array(['W1', 'G6', 'E1', 'O0', 'O7'], dtype='<U2')),\n",
       " ('ID00097', array(['P5', 'S7', 'X7', 'V7', 'T0'], dtype='<U2')),\n",
       " ('ID00098', array(['B6', 'X9', 'H4', 'O3', 'K7'], dtype='<U2')),\n",
       " ('ID00099', array(['F9', 'N9', 'B5', 'W1', 'N7'], dtype='<U2'))]"
      ]
     },
     "execution_count": 58,
     "metadata": {},
     "output_type": "execute_result"
    }
   ],
   "source": [
    "[(match_id, fast_chunk(combined)) for match_id, combined in evaluator.df1_proc]"
   ]
  },
  {
   "cell_type": "code",
   "execution_count": 34,
   "id": "5cd53945-d306-4fb5-923c-7b0ef3df4fef",
   "metadata": {},
   "outputs": [
    {
     "data": {
      "text/plain": [
       "('id', 'R7E2Q4L2R2')"
      ]
     },
     "execution_count": 34,
     "metadata": {},
     "output_type": "execute_result"
    }
   ],
   "source": [
    "combine_and_trim_chunks([\"id\",\"R746\", \"E298\", \"Q412\", \"L291\",\"R232\"], 2)"
   ]
  },
  {
   "cell_type": "code",
   "execution_count": 11,
   "id": "2b7fc97d-8272-4753-b8cc-c68afe20605d",
   "metadata": {},
   "outputs": [
    {
     "data": {
      "text/plain": [
       "0     (ID00000, W84U91F22U05U31)\n",
       "1     (ID00001, P71E40Q24O36G99)\n",
       "2     (ID00002, W48Q97Z05V57C83)\n",
       "3     (ID00003, A76K05Y99J60W17)\n",
       "4     (ID00004, N90H42E28O38W64)\n",
       "                 ...            \n",
       "95    (ID00095, U87A15E73M67O73)\n",
       "96    (ID00096, W22S67Q72Y88G50)\n",
       "97    (ID00097, R87T29K36N99O78)\n",
       "98    (ID00098, R17S04A17C26K20)\n",
       "99    (ID00099, J50J64G84I25H44)\n",
       "Length: 100, dtype: object"
      ]
     },
     "execution_count": 11,
     "metadata": {},
     "output_type": "execute_result"
    }
   ],
   "source": [
    "df1.apply(combine_and_trim_chunks, axis=1)"
   ]
  },
  {
   "cell_type": "code",
   "execution_count": 38,
   "id": "d799b338-4526-4ed5-8b38-ed0a776e6d09",
   "metadata": {},
   "outputs": [
    {
     "data": {
      "text/plain": [
       "array([('ID00000', 'G75U39H37E08W05'), ('ID00001', 'P09R64P46R62M83'),\n",
       "       ('ID00002', 'T02O72X23W84A15'), ('ID00003', 'E47K15E96F77C53'),\n",
       "       ('ID00004', 'P39T86U01Z48B74'), ('ID00005', 'B20P68Y73D71A71'),\n",
       "       ('ID00006', 'I67R30J17Z32U43'), ('ID00007', 'N89L60F87H42S22'),\n",
       "       ('ID00008', 'U11I91G69Y61T59'), ('ID00009', 'B57W53B37R80K61'),\n",
       "       ('ID00010', 'F24N84R80P41I40'), ('ID00011', 'R34I70A52A54K60'),\n",
       "       ('ID00012', 'T27M12G01S77U86'), ('ID00013', 'V74V52D97I16T91'),\n",
       "       ('ID00014', 'D93L75F58K01N14'), ('ID00015', 'H82S60I15C33A72'),\n",
       "       ('ID00016', 'A72R63P70Q44I52'), ('ID00017', 'Q59U82Y18U71H75'),\n",
       "       ('ID00018', 'W62F27Y21K31S79'), ('ID00019', 'Z98W08U96F49J30'),\n",
       "       ('ID00020', 'W08R00M35I64Q75'), ('ID00021', 'A25Z34C51O75Y28'),\n",
       "       ('ID00022', 'F97W17T73D56S70'), ('ID00023', 'Y06P25W58C79G18'),\n",
       "       ('ID00024', 'T85V19J19A22Q54'), ('ID00025', 'L27D27P17K32B80'),\n",
       "       ('ID00026', 'U73H04L12K63D34'), ('ID00027', 'E35A04L81N94G18'),\n",
       "       ('ID00028', 'Q24C77A86V45O21'), ('ID00029', 'M40M29G08Y57O39'),\n",
       "       ('ID00030', 'K36Q05A67Y96X76'), ('ID00031', 'T61R63V11H00N55'),\n",
       "       ('ID00032', 'H44J24T41N05W50'), ('ID00033', 'C72U52W35R16Y90'),\n",
       "       ('ID00034', 'H48F62R40A05L19'), ('ID00035', 'J21Z56I15R84N61'),\n",
       "       ('ID00036', 'J51C35Q94D95B22'), ('ID00037', 'A00M76L06E13K59'),\n",
       "       ('ID00038', 'J22K48Z68F23R56'), ('ID00039', 'T08T86O56V08X64'),\n",
       "       ('ID00040', 'A13C10M64Y62G80'), ('ID00041', 'V28Y05W00U05P80'),\n",
       "       ('ID00042', 'J76S47T13W28H39'), ('ID00043', 'Z42C57I68Q97U30'),\n",
       "       ('ID00044', 'M85L41V36Y03L45'), ('ID00045', 'T26Y59E55Y68Q77'),\n",
       "       ('ID00046', 'S94H48L19T06O99'), ('ID00047', 'J35M29Z45H71J71'),\n",
       "       ('ID00048', 'S84H28O19N60Q51'), ('ID00049', 'W35Q46I02K73R92'),\n",
       "       ('ID00050', 'V27J51R51B96E83'), ('ID00051', 'T47J25X01H57I16'),\n",
       "       ('ID00052', 'T52Z42T70X02Z86'), ('ID00053', 'J67Z58Z49X89M69'),\n",
       "       ('ID00054', 'G93B30J72J96Z03'), ('ID00055', 'G66T26I93Z61K34'),\n",
       "       ('ID00056', 'N43D63D20P16T46'), ('ID00057', 'S38W24L88J50Q38'),\n",
       "       ('ID00058', 'K74G18Q48M20B27'), ('ID00059', 'B39P49Y10H42C34'),\n",
       "       ('ID00060', 'Q66G38Z61C80B64'), ('ID00061', 'F38D78E17A42Q79'),\n",
       "       ('ID00062', 'H19L01O00K56V38'), ('ID00063', 'R84B12F89L83Z51'),\n",
       "       ('ID00064', 'P50P50O38B90Y49'), ('ID00065', 'H77B21F76Y10L02'),\n",
       "       ('ID00066', 'T10S32D41L67G29'), ('ID00067', 'T70T14Z03G93L89'),\n",
       "       ('ID00068', 'G80F42Z44T76H22'), ('ID00069', 'M98M25N66U19Z62'),\n",
       "       ('ID00070', 'K40N40W90M42O56'), ('ID00071', 'Y74D80D89T38K30'),\n",
       "       ('ID00072', 'Y37G44J17I90S27'), ('ID00073', 'U00A83E31D61T37'),\n",
       "       ('ID00074', 'B27J66C92O53W74'), ('ID00075', 'Z47G65Z25Q83Y60'),\n",
       "       ('ID00076', 'B01Y88C42K33A77'), ('ID00077', 'M96I15M69J06F88'),\n",
       "       ('ID00078', 'V15D21X65C74G77'), ('ID00079', 'E61R94E16O12Z54'),\n",
       "       ('ID00080', 'J68M18X99C68W04'), ('ID00081', 'Q22F52S44J69I76'),\n",
       "       ('ID00082', 'K92C07S97C10K29'), ('ID00083', 'Z03E09S08F78Q20'),\n",
       "       ('ID00084', 'D23M19F66I21Q30'), ('ID00085', 'N18P60F63B82G97'),\n",
       "       ('ID00086', 'O18U96Z18X79T59'), ('ID00087', 'Z07Q99F55J10W69'),\n",
       "       ('ID00088', 'N55Y42F29D27O33'), ('ID00089', 'O39H50I44N46F33'),\n",
       "       ('ID00090', 'P87L16F58I67Z96'), ('ID00091', 'Q23G56L82D79Q58'),\n",
       "       ('ID00092', 'L87K33K93B60X17'), ('ID00093', 'C04A31P98J37R13'),\n",
       "       ('ID00094', 'Q74F68Z67K48K43'), ('ID00095', 'Q29S64S59V54V10'),\n",
       "       ('ID00096', 'W14G65E13O02O70'), ('ID00097', 'P58S75X79V74T05'),\n",
       "       ('ID00098', 'B60X94H43O34K73'), ('ID00099', 'F91N93B53W10N76')],\n",
       "      dtype=object)"
      ]
     },
     "execution_count": 38,
     "metadata": {},
     "output_type": "execute_result"
    }
   ],
   "source": [
    "evaluator.df1_proc"
   ]
  },
  {
   "cell_type": "code",
   "execution_count": 16,
   "id": "20705b99-6ec1-4578-8d65-137b21b8ea84",
   "metadata": {},
   "outputs": [
    {
     "data": {
      "text/html": [
       "<div>\n",
       "<style scoped>\n",
       "    .dataframe tbody tr th:only-of-type {\n",
       "        vertical-align: middle;\n",
       "    }\n",
       "\n",
       "    .dataframe tbody tr th {\n",
       "        vertical-align: top;\n",
       "    }\n",
       "\n",
       "    .dataframe thead th {\n",
       "        text-align: right;\n",
       "    }\n",
       "</style>\n",
       "<table border=\"1\" class=\"dataframe\">\n",
       "  <thead>\n",
       "    <tr style=\"text-align: right;\">\n",
       "      <th></th>\n",
       "      <th>0</th>\n",
       "      <th>1</th>\n",
       "      <th>2</th>\n",
       "      <th>3</th>\n",
       "      <th>4</th>\n",
       "      <th>5</th>\n",
       "    </tr>\n",
       "  </thead>\n",
       "  <tbody>\n",
       "    <tr>\n",
       "      <th>0</th>\n",
       "      <td>ID00005</td>\n",
       "      <td>N039</td>\n",
       "      <td>E298</td>\n",
       "      <td>Q412</td>\n",
       "      <td>V409</td>\n",
       "      <td>R232</td>\n",
       "    </tr>\n",
       "    <tr>\n",
       "      <th>1</th>\n",
       "      <td>ID00009</td>\n",
       "      <td>R822</td>\n",
       "      <td>W179</td>\n",
       "      <td>H017</td>\n",
       "      <td>P323</td>\n",
       "      <td>F298</td>\n",
       "    </tr>\n",
       "    <tr>\n",
       "      <th>2</th>\n",
       "      <td>ID00007</td>\n",
       "      <td>R449</td>\n",
       "      <td>X716</td>\n",
       "      <td>M948</td>\n",
       "      <td>G667</td>\n",
       "      <td>S702</td>\n",
       "    </tr>\n",
       "    <tr>\n",
       "      <th>3</th>\n",
       "      <td>ID00004</td>\n",
       "      <td>N002</td>\n",
       "      <td>E396</td>\n",
       "      <td>N843</td>\n",
       "      <td>I458</td>\n",
       "      <td>S719</td>\n",
       "    </tr>\n",
       "    <tr>\n",
       "      <th>4</th>\n",
       "      <td>ID10004</td>\n",
       "      <td>N002</td>\n",
       "      <td>E396</td>\n",
       "      <td>N853</td>\n",
       "      <td>I623</td>\n",
       "      <td>S569</td>\n",
       "    </tr>\n",
       "    <tr>\n",
       "      <th>5</th>\n",
       "      <td>NEW72378</td>\n",
       "      <td>J547</td>\n",
       "      <td>B222</td>\n",
       "      <td>G492</td>\n",
       "      <td>R551</td>\n",
       "      <td>S490</td>\n",
       "    </tr>\n",
       "    <tr>\n",
       "      <th>6</th>\n",
       "      <td>ID00008</td>\n",
       "      <td>N322</td>\n",
       "      <td>K685</td>\n",
       "      <td>T442</td>\n",
       "      <td>C825</td>\n",
       "      <td>W967</td>\n",
       "    </tr>\n",
       "    <tr>\n",
       "      <th>7</th>\n",
       "      <td>ID00000</td>\n",
       "      <td>W815</td>\n",
       "      <td>L281</td>\n",
       "      <td>R155</td>\n",
       "      <td>F768</td>\n",
       "      <td>B914</td>\n",
       "    </tr>\n",
       "    <tr>\n",
       "      <th>8</th>\n",
       "      <td>ID00001</td>\n",
       "      <td>C172</td>\n",
       "      <td>B326</td>\n",
       "      <td>X400</td>\n",
       "      <td>M508</td>\n",
       "      <td>O776</td>\n",
       "    </tr>\n",
       "    <tr>\n",
       "      <th>9</th>\n",
       "      <td>ID00002</td>\n",
       "      <td>V683</td>\n",
       "      <td>C265</td>\n",
       "      <td>J127</td>\n",
       "      <td>D589</td>\n",
       "      <td>F482</td>\n",
       "    </tr>\n",
       "    <tr>\n",
       "      <th>10</th>\n",
       "      <td>ID00003</td>\n",
       "      <td>E851</td>\n",
       "      <td>P721</td>\n",
       "      <td>F745</td>\n",
       "      <td>D863</td>\n",
       "      <td>K229</td>\n",
       "    </tr>\n",
       "    <tr>\n",
       "      <th>11</th>\n",
       "      <td>ID00016</td>\n",
       "      <td>T873</td>\n",
       "      <td>D670</td>\n",
       "      <td>U046</td>\n",
       "      <td>Z181</td>\n",
       "      <td>X621</td>\n",
       "    </tr>\n",
       "    <tr>\n",
       "      <th>12</th>\n",
       "      <td>ID00017</td>\n",
       "      <td>F327</td>\n",
       "      <td>G856</td>\n",
       "      <td>E567</td>\n",
       "      <td>O929</td>\n",
       "      <td>Q721</td>\n",
       "    </tr>\n",
       "    <tr>\n",
       "      <th>13</th>\n",
       "      <td>ID00010</td>\n",
       "      <td>O283</td>\n",
       "      <td>T723</td>\n",
       "      <td>Z034</td>\n",
       "      <td>V319</td>\n",
       "      <td>X338</td>\n",
       "    </tr>\n",
       "  </tbody>\n",
       "</table>\n",
       "</div>"
      ],
      "text/plain": [
       "           0     1     2     3     4     5\n",
       "0    ID00005  N039  E298  Q412  V409  R232\n",
       "1    ID00009  R822  W179  H017  P323  F298\n",
       "2    ID00007  R449  X716  M948  G667  S702\n",
       "3    ID00004  N002  E396  N843  I458  S719\n",
       "4    ID10004  N002  E396  N853  I623  S569\n",
       "5   NEW72378  J547  B222  G492  R551  S490\n",
       "6    ID00008  N322  K685  T442  C825  W967\n",
       "7    ID00000  W815  L281  R155  F768  B914\n",
       "8    ID00001  C172  B326  X400  M508  O776\n",
       "9    ID00002  V683  C265  J127  D589  F482\n",
       "10   ID00003  E851  P721  F745  D863  K229\n",
       "11   ID00016  T873  D670  U046  Z181  X621\n",
       "12   ID00017  F327  G856  E567  O929  Q721\n",
       "13   ID00010  O283  T723  Z034  V319  X338"
      ]
     },
     "execution_count": 16,
     "metadata": {},
     "output_type": "execute_result"
    }
   ],
   "source": [
    "df1"
   ]
  },
  {
   "cell_type": "code",
   "execution_count": 17,
   "id": "fb8fbd5e-6965-43ed-9a66-e0bca786a308",
   "metadata": {},
   "outputs": [
    {
     "data": {
      "text/plain": [
       "array([('ID00005', 'N039E298Q412V409R232'),\n",
       "       ('ID00009', 'R822W179H017P323F298'),\n",
       "       ('ID00007', 'R449X716M948G667S702'),\n",
       "       ('ID00004', 'N002E396N843I458S719'),\n",
       "       ('ID10004', 'N002E396N853I623S569'),\n",
       "       ('NEW72378', 'J547B222G492R551S490'),\n",
       "       ('ID00008', 'N322K685T442C825W967'),\n",
       "       ('ID00000', 'W815L281R155F768B914'),\n",
       "       ('ID00001', 'C172B326X400M508O776'),\n",
       "       ('ID00002', 'V683C265J127D589F482'),\n",
       "       ('ID00003', 'E851P721F745D863K229'),\n",
       "       ('ID00016', 'T873D670U046Z181X621'),\n",
       "       ('ID00017', 'F327G856E567O929Q721'),\n",
       "       ('ID00010', 'O283T723Z034V319X338')], dtype=object)"
      ]
     },
     "execution_count": 17,
     "metadata": {},
     "output_type": "execute_result"
    }
   ],
   "source": [
    "def combine_and_trim_chunks(row):\n",
    "    chunks = [str(x) for x in row[1:]]  # skip ID\n",
    "    trimmed_chunks = [c[:-0] if 0 > 0 else c for c in chunks]\n",
    "    combined = ''.join(trimmed_chunks)\n",
    "    return (row[0], combined)\n",
    "\n",
    "df1.apply(combine_and_trim_chunks, axis=1).to_numpy()\n"
   ]
  },
  {
   "cell_type": "code",
   "execution_count": null,
   "id": "0e5ff355-e452-45fc-a07a-2e20dcc8503e",
   "metadata": {},
   "outputs": [],
   "source": []
  }
 ],
 "metadata": {
  "kernelspec": {
   "display_name": "Python 3 (ipykernel)",
   "language": "python",
   "name": "python3"
  },
  "language_info": {
   "codemirror_mode": {
    "name": "ipython",
    "version": 3
   },
   "file_extension": ".py",
   "mimetype": "text/x-python",
   "name": "python",
   "nbconvert_exporter": "python",
   "pygments_lexer": "ipython3",
   "version": "3.11.6"
  }
 },
 "nbformat": 4,
 "nbformat_minor": 5
}
